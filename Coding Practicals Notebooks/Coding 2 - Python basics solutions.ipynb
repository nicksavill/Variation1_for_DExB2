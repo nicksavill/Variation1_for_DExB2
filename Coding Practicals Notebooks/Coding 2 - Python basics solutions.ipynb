{
 "cells": [
  {
   "cell_type": "markdown",
   "metadata": {},
   "source": [
    "# Coding 1: Getting started with Python"
   ]
  },
  {
   "cell_type": "markdown",
   "metadata": {},
   "source": [
    "## Task 1.1\n",
    "\n",
    "The following code is supposed to set a variable called `N0` to 1,000 and then print it out its value. A comment is also included on the first line so that we know what the code does. However, the code contains multiple errors. Fix them to make it work correctly."
   ]
  },
  {
   "cell_type": "code",
   "execution_count": 19,
   "metadata": {},
   "outputs": [
    {
     "name": "stdout",
     "output_type": "stream",
     "text": [
      "1000\n"
     ]
    }
   ],
   "source": [
    "# set the initial number of bacteria at time 0 to 1,000 cells\n",
    "N0 = 1000\n",
    "print(N0)"
   ]
  },
  {
   "cell_type": "markdown",
   "metadata": {},
   "source": [
    "## Task 1.2\n",
    "\n",
    "1. Assign the value of 50 to a variable called `height_in_inches`.\n",
    "2. Using Python code, convert the value in the variable `height_in_inches` to centimetres and assign the result to a variable called `height_in_cm`. \n",
    "3. Print the value of `height_in_cm`."
   ]
  },
  {
   "cell_type": "code",
   "execution_count": 20,
   "metadata": {},
   "outputs": [
    {
     "name": "stdout",
     "output_type": "stream",
     "text": [
      "127.0\n"
     ]
    }
   ],
   "source": [
    "height_in_inches = 50\n",
    "height_in_cm = 50 * 2.54\n",
    "print(height_in_cm)"
   ]
  },
  {
   "cell_type": "markdown",
   "metadata": {},
   "source": [
    "## Task 1.3\n",
    "\n",
    "Using Python code, convert 76 inches into centimetres and print the result using an f-string so the output reads:\n",
    "\n",
    "    76 inches is X cm\n",
    "\n",
    "where X is your answer rounded to 1 decimal place."
   ]
  },
  {
   "cell_type": "code",
   "execution_count": 21,
   "metadata": {},
   "outputs": [
    {
     "name": "stdout",
     "output_type": "stream",
     "text": [
      "76 inches is 178 cm\n"
     ]
    }
   ],
   "source": [
    "print(f'76 inches is {70 * 2.54:.0f} cm')"
   ]
  },
  {
   "cell_type": "markdown",
   "metadata": {},
   "source": [
    "## Task 1.4\n",
    "\n",
    "Add a print statement with an f-string to the code below to print the following statement:\n",
    "\n",
    "        The percentage of land covered by forest is 1.06%\n",
    "\n",
    "Perform the calculation within your f-string. Round your answer to 2dp."
   ]
  },
  {
   "cell_type": "code",
   "execution_count": 22,
   "metadata": {},
   "outputs": [
    {
     "name": "stdout",
     "output_type": "stream",
     "text": [
      "The percentage of land covered by forest is 1.06%\n"
     ]
    }
   ],
   "source": [
    "total_land_area = 89032840.42390\n",
    "forest_area = 939402.42445\n",
    "\n",
    "print(f'The percentage of land covered by forest is {forest_area/total_land_area:.2%}')"
   ]
  },
  {
   "cell_type": "markdown",
   "metadata": {
    "solution2": "hidden",
    "solution2_first": true
   },
   "source": [
    "## Task 1.5\n",
    "\n",
    "Which of these variable names should not be used and why? Think about the answers before revealing the solutions.\n",
    "\n",
    "- `eye colour`\n",
    "- `test`\n",
    "- `surname`\n",
    "- `ph`\n",
    "- `0_value`\n",
    "- `lambda`\n",
    "- `alpha`\n",
    "- `O`\n",
    "- `cell_concentration`\n",
    "- `dna_seq`\n",
    "- `x`"
   ]
  },
  {
   "cell_type": "markdown",
   "metadata": {
    "solution2": "hidden"
   },
   "source": [
    "Variable | Usable as a name?\n",
    ":--- | :---\n",
    "`eye colour` | cannot contain a space\n",
    "`test` | good\n",
    "`surname` | good\n",
    "`ph` | good\n",
    "`0_value` | cannot start with a number\n",
    "`lambda` | a reserved Python keyword\n",
    "`alpha` | good\n",
    "`O` | can be used but very similar to the number zero\n",
    "`cell_concentration` | good\n",
    "`dna_seq` | good\n",
    "`x` | okay, can be used but may not be informative"
   ]
  },
  {
   "cell_type": "markdown",
   "metadata": {},
   "source": [
    "## Task 1.6\n",
    "\n",
    "In the self-study notebooks we saw that the increment operator `+=` increments a variable by some value. For example\n",
    "```python \n",
    "x = 2\n",
    "x += 10\n",
    "```\n",
    "increments `x` by 10 to give a final value of 12. It is a shorthand way of writing\n",
    "```python\n",
    "x = x + 10\n",
    "```\n",
    "\n",
    "Say we wanted to multiply a variable by some number, for example\n",
    "```python\n",
    "y = 5\n",
    "y = y * 10\n",
    "```\n",
    "to give a final answer of 50.\n",
    "\n",
    "1. Can you think of a **shorthand** way of writing that multiplication? Try it out in the following code cell before revealing the solution.\n",
    "\n",
    "2. Also try out subtraction and division shorthands. "
   ]
  },
  {
   "cell_type": "code",
   "execution_count": 23,
   "metadata": {},
   "outputs": [
    {
     "name": "stdout",
     "output_type": "stream",
     "text": [
      "50\n",
      "-5\n",
      "0.5\n"
     ]
    }
   ],
   "source": [
    "y = 5\n",
    "y *= 10\n",
    "print(y)\n",
    "\n",
    "y = 5\n",
    "y -= 10\n",
    "print(y)\n",
    "\n",
    "y = 5\n",
    "y /= 10\n",
    "print(y)"
   ]
  },
  {
   "cell_type": "markdown",
   "metadata": {},
   "source": [
    "## Task 1.7\n",
    "\n",
    "Biologists use a technique called mark-and-recapture to estimate population sizes of animals. \n",
    "\n",
    "For example, researchers captured Monarch Butterflies in a field, marked them with an identification sticker then released them. The number of marked butterflies was recorded. \n",
    "\n",
    "The next day the biologists went to the same field and caught butterflies. Some of the caught butterflies had an identification sticker, these are recaptured butterflies. The other caught butterflies did not have a sticker so this was the first time they had been captured.\n",
    "\n",
    "The formula for estimating population size by the mark-and-recapture method is\n",
    "\n",
    "$$N = \\frac{M\\ \\times\\ C}{R}$$\n",
    "\n",
    "where *N* is the estimated population size, *M* is the number of captured, marked and released butterflies on the first day, *C* is the total number butterflies caught on the second day (recaptured plus unmarked), and *R* is the number of recaptured butterflies on the second day.\n",
    "\n",
    "The researchers captured, marked and released 100 butterflies on the first day and captured 120 butterflies in total on the second day of which 30 were marked.\n",
    "\n",
    "Using Python code calculate the estimated population size\n",
    "1. Use variables to store the values of *M*, *C* and *R*.\n",
    "2. Write the above formula in code to calculate *N*.\n",
    "3. Print the value of *N* in a f-string."
   ]
  },
  {
   "cell_type": "code",
   "execution_count": 24,
   "metadata": {},
   "outputs": [
    {
     "name": "stdout",
     "output_type": "stream",
     "text": [
      "population size is 400 butterflies\n"
     ]
    }
   ],
   "source": [
    "M = 100\n",
    "C = 120\n",
    "R = 30\n",
    "\n",
    "N = M*C/R\n",
    "print(f'population size is {N:.0f} butterflies')"
   ]
  },
  {
   "cell_type": "markdown",
   "metadata": {},
   "source": [
    "## Task 1.8\n",
    "\n",
    "When the wind blows in cold weather, the air feels colder than it actually is\n",
    "because the movement of the air increases the rate of cooling for warm objects, like\n",
    "people. This effect is known as wind chill.\n",
    "\n",
    "This is the formula for calculating wind chill (the temperature it feels like)\n",
    "\n",
    "$$\\text{wind chill} = 13.12 + 0.6215\\times T − 11.37\\times  V^{0.16} + 0.3965\\times  T\\times  V^{0.16}$$\n",
    "\n",
    "\n",
    "where *T* is the air temperature in degrees Celsius and *V* is the wind speed in kilometres per hour.\n",
    "\n",
    "Write some code to calculate wind chill using the variables `T` and `V` below. Round your answer to 1dp.\n",
    "\n",
    "*Hint*: remember that, in Python, the multiplication operator is `*` and the power operator is `**`."
   ]
  },
  {
   "cell_type": "code",
   "execution_count": 25,
   "metadata": {},
   "outputs": [
    {
     "name": "stdout",
     "output_type": "stream",
     "text": [
      "wind chill is 2.7 deg C\n"
     ]
    }
   ],
   "source": [
    "# Assign the value 5 degrees Celsius to the variable \"T\"\n",
    "T = 5\n",
    "# Assign the value 10 km/h to the variable \"V\"\n",
    "V = 10\n",
    "\n",
    "wind_chill = 13.12 + 0.6215*T - 11.37*V**0.16 + 0.3965*T*V**0.16\n",
    "print(f'wind chill is {wind_chill:.1f} deg C')"
   ]
  },
  {
   "cell_type": "markdown",
   "metadata": {},
   "source": [
    "## Task 1.9\n",
    "\n",
    "Bacterial cells replicate by binary division. Under conditions of ample resources, the number of bacteria in a population grows exponentially. \n",
    "\n",
    "If we wish to predict the size of a population of bacteria after a given amount of time from a starting population we can use the formula\n",
    "\n",
    "$$N_t = N_02^{t/d}$$\n",
    "\n",
    "where *N<sub>t</sub>* is the population size after time *t*, *N<sub>0</sub>* is the starting population size at time *t* = 0, and *d* is the average time it takes between bacteria replications; also known as the *doubling time*.\n",
    "\n",
    "The units of *t* and *d* must be the same (e.g. hours or minutes).\n",
    "\n",
    "1. Let the starting population be 450 bacteria and the doubling time be 20 minutes. How many bacteria are there after 12 hours? Your calculation should be performed entirely with Python code.\n",
    "2. Use google to see if you can discover how to make your output have commas as the thousands separator. "
   ]
  },
  {
   "cell_type": "code",
   "execution_count": 26,
   "metadata": {},
   "outputs": [
    {
     "name": "stdout",
     "output_type": "stream",
     "text": [
      "30,923,764,531,200 cells\n"
     ]
    }
   ],
   "source": [
    "N0 = 450\n",
    "d = 20\n",
    "t = 12*60\n",
    "\n",
    "Nt = N0 * 2**(t/d)\n",
    "\n",
    "print(f'{Nt:,.0f} cells')"
   ]
  },
  {
   "cell_type": "markdown",
   "metadata": {
    "collapsed": true
   },
   "source": [
    "## Task 1.10\n",
    "\n",
    "Each bacterium in **Task 1.9** has a mass of approximately 170 femtograms, which is 1.7x10<sup>-13</sup> g in scientific notation and 1.7e-13 g in e-notation. \n",
    "\n",
    "Using the code you wrote in Task 1.9, calculate the mass of the bacterial culture in kilograms after **16 hours**."
   ]
  },
  {
   "cell_type": "code",
   "execution_count": 27,
   "metadata": {},
   "outputs": [
    {
     "name": "stdout",
     "output_type": "stream",
     "text": [
      "mass of culture is 21.5 kg\n"
     ]
    }
   ],
   "source": [
    "mass = 1.7e-13\n",
    "t = 16*60\n",
    "\n",
    "Nt = N0 * 2**(t/d)\n",
    "culture_mass = Nt * mass\n",
    "\n",
    "print(f'mass of culture is {culture_mass/1000:.1f} kg')"
   ]
  },
  {
   "cell_type": "markdown",
   "metadata": {},
   "source": [
    "## Task 1.11\n",
    "\n",
    "In [Exercise 1.3.5](../Self-study%20Notebooks/Exercises/1.3%20-%20Numbers%20and%20arithmetic.ipynb#Exercise-1.3.5) you found the circumference and area of a circle of radius 5.4 cm to 1dp. (You can click on the link to open the Exercise Notebook.)\n",
    "\n",
    "Repeat the exercise but using the value of $\\pi$ in the `math` module.\n",
    "\n",
    "Format your output with f-strings."
   ]
  },
  {
   "cell_type": "code",
   "execution_count": 28,
   "metadata": {},
   "outputs": [
    {
     "name": "stdout",
     "output_type": "stream",
     "text": [
      "circumference = 33.9 cm\n",
      "area = 91.6 cm\n"
     ]
    }
   ],
   "source": [
    "import math\n",
    "\n",
    "print(f'circumference = {math.pi * 2 * 5.4:.1f} cm')\n",
    "print(f'area = {math.pi * 5.4**2:.1f} cm')"
   ]
  },
  {
   "cell_type": "markdown",
   "metadata": {},
   "source": [
    "## Task 1.12\n",
    "\n",
    "Calculate your age in days."
   ]
  },
  {
   "cell_type": "code",
   "execution_count": 1,
   "metadata": {},
   "outputs": [
    {
     "name": "stdout",
     "output_type": "stream",
     "text": [
      "6470 days, 0:00:00\n"
     ]
    }
   ],
   "source": [
    "import datetime\n",
    "\n",
    "today = datetime.date.today()\n",
    "\n",
    "birthdate = datetime.date(2006, 11, 26)\n",
    "print( today - birthdate )"
   ]
  },
  {
   "cell_type": "markdown",
   "metadata": {},
   "source": [
    "## Task 1.13\n",
    "\n",
    "Calculate how many days to Christmas."
   ]
  },
  {
   "cell_type": "code",
   "execution_count": 30,
   "metadata": {},
   "outputs": [
    {
     "name": "stdout",
     "output_type": "stream",
     "text": [
      "228 days, 0:00:00\n"
     ]
    }
   ],
   "source": [
    "\n",
    "xmas = datetime.date(2023, 12, 25)\n",
    "print( xmas - today )"
   ]
  }
 ],
 "metadata": {
  "kernelspec": {
   "display_name": "Python 3 (ipykernel)",
   "language": "python",
   "name": "python3"
  },
  "language_info": {
   "codemirror_mode": {
    "name": "ipython",
    "version": 3
   },
   "file_extension": ".py",
   "mimetype": "text/x-python",
   "name": "python",
   "nbconvert_exporter": "python",
   "pygments_lexer": "ipython3",
   "version": "3.11.5"
  },
  "varInspector": {
   "cols": {
    "lenName": 16,
    "lenType": 16,
    "lenVar": 40
   },
   "kernels_config": {
    "python": {
     "delete_cmd_postfix": "",
     "delete_cmd_prefix": "del ",
     "library": "var_list.py",
     "varRefreshCmd": "print(var_dic_list())"
    },
    "r": {
     "delete_cmd_postfix": ") ",
     "delete_cmd_prefix": "rm(",
     "library": "var_list.r",
     "varRefreshCmd": "cat(var_dic_list()) "
    }
   },
   "types_to_exclude": [
    "module",
    "function",
    "builtin_function_or_method",
    "instance",
    "_Feature"
   ],
   "window_display": false
  },
  "vscode": {
   "interpreter": {
    "hash": "5b34568b434bb6e5bf895c3fbf2a1e101e1e281d0c9e435769d397db7902ae33"
   }
  }
 },
 "nbformat": 4,
 "nbformat_minor": 4
}
