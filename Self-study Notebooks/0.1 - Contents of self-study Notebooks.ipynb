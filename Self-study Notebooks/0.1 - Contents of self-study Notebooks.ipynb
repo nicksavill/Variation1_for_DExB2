{
 "cells": [
  {
   "cell_type": "markdown",
   "metadata": {},
   "source": [
    "# Contents of Self-study notebooks"
   ]
  },
  {
   "cell_type": "markdown",
   "metadata": {},
   "source": [
    "## Self-study notebooks in preparation for Week 2, Coding 2 - Python basics"
   ]
  },
  {
   "cell_type": "markdown",
   "metadata": {},
   "source": [
    "**Clicking on a notebook title opens that notebook**\n",
    "\n",
    "### [1.1 - Coding in Jupyter Notebooks](1.1%20-%20Coding%20in%20Jupyter%20Notebooks.ipynb)\n",
    "- Selecting a cell\n",
    "- Command mode and edit mode\n",
    "- Running a code cell runs the code and produces output\n",
    "- How to save and close Jupyter Notebooks\n",
    "\n",
    "### [1.2 - Errors and comment](1.2%20-%20Errors%20and%20comments.ipynb)\n",
    "- Making mistakes and Python errors\n",
    "- Comments\n",
    "\n",
    "### [1.3 - Numbers and arithmetic](1.3%20-%20Numbers%20and%20arithmetic.ipynb)\n",
    "- Simple arithmetic\n",
    "    -  Aside: Jupyter Notebook output\n",
    "- Very large and very small numbers: Scientific E-notation\n",
    "\n",
    "### [1.4 - Variables](1.4%20-%20Variables.ipynb)\n",
    "- What are variables and why do we need them?\n",
    "- Assigning a value to a variable\n",
    "- Print the value of a variable\n",
    "- The value of a variable can change\n",
    "- Incrementing a variable's value\n",
    "- Variables can be used in arithmetic\n",
    "- What should I call my variable?\n",
    "- Variable naming guidelines\n",
    "    -  Reserved keywords in Python\n",
    "\n",
    "### [1.5 - Strings: working with text](1.5%20-%20Strings:%20working%20with%20text.ipynb)\n",
    "- Single and double quotes in a string\n",
    "- Make your output meaningful with f-strings\n",
    "- Rounding numbers in f-strings\n",
    "- f-strings can contain many variables"
   ]
  },
  {
   "cell_type": "markdown",
   "metadata": {},
   "source": [
    "## Self-study notebooks in preparation for Week 3, Coding 3 - Working with data"
   ]
  },
  {
   "cell_type": "markdown",
   "metadata": {},
   "source": [
    "### [2.1 - Lists](2.1%20-%20Lists.ipynb)\n",
    "- A list is a sequence of items\n",
    "- Length of a list\n",
    "- Accessing values in a list\n",
    "\n",
    "### [2.2 - Loops](2.2%20-%20Loops.ipynb)\n",
    "- Looping through a list of numbers\n",
    "- How to calculate an average by looping\n",
    "- Indentation matters: IndentationError\n",
    "- The iterating variable\n",
    "- Sum all the values in a list\n",
    "- Average value of items in a list\n",
    "\n",
    "### [2.3 - Making decisions](2.3%20-%20Making%20decisions.ipynb)\n",
    "- Testing the value of a variable\n",
    "- Double equals symbol, `==`\n",
    "- Table of comparison operators\n",
    "- Testing if a value is within a range\n",
    "- Testing if a value is outside a range\n",
    "\n",
    "### [2.4 - Counting values](2.4%20-%20Counting%20values.ipynb)\n",
    "- Frequency\n",
    "\n",
    "- Relative frequency (proportion)\n",
    "- Counting values within a range"
   ]
  },
  {
   "cell_type": "markdown",
   "metadata": {},
   "source": [
    "## Self-study notebooks in preparation for Week 4, Ladybird Analysis 1 - Estimating a population mean"
   ]
  },
  {
   "cell_type": "markdown",
   "metadata": {},
   "source": [
    "### [3.1 - Descriptive statistics: location](3.1%20-%20Descriptive%20statistics%20-%20location.ipynb)\n",
    "- Darwin's finches\n",
    "- Calculating means with pandas\n",
    "- Format your output with an f-string\n",
    "\n",
    "### [3.2 - Descriptive statistics: spread](3.2%20-%20Descriptive%20statistics%20-%20spread.ipynb)\n",
    "- Darwin's finches again\n",
    "- Standard deviation\n",
    "\n",
    "### [3.3 - Normal distribution](3.3%20-%20Normal%20distribution.ipynb)\n",
    "- US female college student heights\n",
    "- Read and plot the data in a histogram\n",
    "- Find the sample size, mean and standard deviation\n",
    "- What does the standard deviation represent? The 68-95-99.7% rule\n",
    "- Aside: Try not to hard-code statistics or data\n",
    "- Estimating a standard deviation by eye\n",
    "- How the normal distribution changes\n",
    "\n",
    "### [3.4 - Inferential statistics and sampling a population](3.4%20-%20Inferential%20statistics%20and%20sampling%20a%20population.ipynb)\n",
    "- What is a population and what is a sample?\n",
    "- Population parameters and sample statistics\n",
    "- The sample size *n*\n",
    "\n",
    "### [3.5 - Estimating a population mean](3.5%20-%20Estimating%20a%20population%20mean.ipynb)\n",
    "- Beak depths of the medium ground finch of the Galápagos islands\n",
    "- The estimate of the population mean\n",
    "- But how precise is the estimate of the population mean?\n",
    "- A histogram of estimates of the population mean: The sampling distribution\n",
    "- Standard error of the mean\n",
    "\n",
    "\n",
    "### [3.6 - Reporting a population mean](3.6%20-%20Reporting%20a%20population%20mean.ipynb)\n",
    "- Reporting the estimate of the population mean and the standard error\n",
    "- An alternative measure of precision: The 95% confidence interval\n",
    "- Reporting a 95% confidence interval of the population mean\n",
    "- Visualising estimates of population means with bar plots"
   ]
  },
  {
   "cell_type": "markdown",
   "metadata": {},
   "source": [
    "## Self-study notebook in preparation for Week 5, Ladybird Analysis 2 - Null hypothesis significance testing"
   ]
  },
  {
   "cell_type": "markdown",
   "metadata": {},
   "source": [
    "### [4.1 - Comparing two population means](4.1%20-%20Comparing%20two%20population%20means.ipynb)\n",
    "- The evolution of medium ground finch beak depths on the Galápagos islands\n",
    "- The research hypothesis\n",
    "- The statistical hypotheses\n",
    "- Sample means and standard deviations\n",
    "- The test statistic\n",
    "- The *p*-value\n",
    "- The two-sample *t*-test\n",
    "- To reject or not reject the null hypothesis\n",
    "- Reporting the result of the test\n",
    "- Common misinterpretations of the *p*-value"
   ]
  }
 ],
 "metadata": {
  "kernelspec": {
   "display_name": "Python 3 (ipykernel)",
   "language": "python",
   "name": "python3"
  },
  "language_info": {
   "codemirror_mode": {
    "name": "ipython",
    "version": 3
   },
   "file_extension": ".py",
   "mimetype": "text/x-python",
   "name": "python",
   "nbconvert_exporter": "python",
   "pygments_lexer": "ipython3",
   "version": "3.11.5"
  },
  "varInspector": {
   "cols": {
    "lenName": 16,
    "lenType": 16,
    "lenVar": 40
   },
   "kernels_config": {
    "python": {
     "delete_cmd_postfix": "",
     "delete_cmd_prefix": "del ",
     "library": "var_list.py",
     "varRefreshCmd": "print(var_dic_list())"
    },
    "r": {
     "delete_cmd_postfix": ") ",
     "delete_cmd_prefix": "rm(",
     "library": "var_list.r",
     "varRefreshCmd": "cat(var_dic_list()) "
    }
   },
   "types_to_exclude": [
    "module",
    "function",
    "builtin_function_or_method",
    "instance",
    "_Feature"
   ],
   "window_display": false
  }
 },
 "nbformat": 4,
 "nbformat_minor": 4
}
