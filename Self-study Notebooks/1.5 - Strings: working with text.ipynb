{
 "cells": [
  {
   "cell_type": "markdown",
   "metadata": {
    "button": false,
    "new_sheet": false,
    "run_control": {
     "read_only": false
    }
   },
   "source": [
    "# Strings: working with text"
   ]
  },
  {
   "cell_type": "markdown",
   "metadata": {},
   "source": [
    "<div class=\"alert alert-warning\">\n",
    "\n",
    "**In this notebook you will learn about strings which are what text is called in Python. You'll also learn about formatting the output of numerical variables in f-strings.**\n",
    "    \n",
    "</div>"
   ]
  },
  {
   "cell_type": "markdown",
   "metadata": {},
   "source": [
    "In biology many types of data are predominantly text, for example, DNA and protein sequences, survey replies, species names or gene identifiers.\n",
    "\n",
    "Python refers to text as **strings** - as in a *string* of characters. A string can be any length and made up of any letters, numbers and punctuation. \n",
    "\n",
    "We've already used a string: \"Hello, world!\", in Notebook 1.2.\n",
    "\n",
    "A string must start and end with either single quotes or double quotes, as long as both quotes are the same. So both\n",
    "```python\n",
    "'Hello, world!'\n",
    "\"Hello, world!\"\n",
    "```\n",
    "are identical strings."
   ]
  },
  {
   "cell_type": "markdown",
   "metadata": {},
   "source": [
    "## Single and double quotes in a string"
   ]
  },
  {
   "cell_type": "markdown",
   "metadata": {},
   "source": [
    "If we need to use an apostrophe (a single quote) inside a string, the string should start and end with double quotes:\n",
    "```python\n",
    "print( \"Darwin's Dangerous Idea\" )\n",
    "```\n",
    "Or if we need to use double quotes in a string, the string should start and end with single quotes:\n",
    "```python\n",
    "print( 'Say, \"Hello, world\"' )\n",
    "```\n",
    "If you get this wrong, you'll just get a Syntax Error.\n",
    "\n",
    "<div class=\"alert alert-info\">\n",
    "    \n",
    "Look at the following code to see how it's done.\n",
    "</div>"
   ]
  },
  {
   "cell_type": "code",
   "execution_count": null,
   "metadata": {},
   "outputs": [],
   "source": [
    "print( \"Darwin's Dangerous Idea\" )\n",
    "\n",
    "print( 'Say, \"Hello, world\"' )"
   ]
  },
  {
   "cell_type": "markdown",
   "metadata": {},
   "source": [
    "## Make your output meaningful with f-strings"
   ]
  },
  {
   "cell_type": "markdown",
   "metadata": {},
   "source": [
    "Recall the garden worm density calculation we did in the last notebook on numerical variables.\n",
    "\n",
    "<div class=\"alert alert-info\">\n",
    "\n",
    "Run the code cell below to redo the calculation.\n",
    "\n",
    "</div>"
   ]
  },
  {
   "cell_type": "code",
   "execution_count": null,
   "metadata": {
    "button": false,
    "new_sheet": false
   },
   "outputs": [],
   "source": [
    "garden_area = 168\n",
    "\n",
    "number_of_worms = 1042\n",
    "\n",
    "worms_per_sqm = number_of_worms / garden_area\n",
    "\n",
    "print( worms_per_sqm )"
   ]
  },
  {
   "cell_type": "markdown",
   "metadata": {},
   "source": [
    "The value of the variable `worms_per_sqm` is 6.2 (to 1 decimal place). But we often want our output to have extra information in it, for example:\n",
    "1. Some explanation of what the value represents (i.e., worm density in a garden)\n",
    "2. The units (i.e., worms/m<sup>2</sup>)\n",
    "3. The value rounded to some sensible number of decimal places because obviously we are unable to measure worm density to the nearest mm<sup>2</sup> and nor would we want to.\n",
    "\n",
    "What we want to do is combine the value in the numerical variable `worms_per_sqm` with some text. This is called **formatting**.\n",
    "\n",
    "We can format our output with something called a **formatted string** or **f-string** for short. The following code gives an example.\n",
    "\n",
    "<div class=\"alert alert-info\">\n",
    "\n",
    "Run the code to look at the output.\n",
    "\n",
    "</div>"
   ]
  },
  {
   "cell_type": "code",
   "execution_count": null,
   "metadata": {},
   "outputs": [],
   "source": [
    "print( f'Worm density is {worms_per_sqm} worms/m^2' )"
   ]
  },
  {
   "cell_type": "markdown",
   "metadata": {},
   "source": [
    "The `f` in front of the single quote tells Python that what follows is an f-string, i.e., a string with formatting code in it. \n",
    "\n",
    "The variable name `worms_per_sqm` is placed inside a pair of curly brackets `{}`. This tells Python to replace the variable name `worms_per_sqm` with its value 6.2023809523809526. "
   ]
  },
  {
   "cell_type": "markdown",
   "metadata": {},
   "source": [
    "## Rounding numbers in f-strings"
   ]
  },
  {
   "cell_type": "markdown",
   "metadata": {},
   "source": [
    "f-strings have neat way of rounding numbers and you should use this method when using them. Here's how to do it: \n",
    "\n",
    "```python\n",
    "print( f'Worm density is {worms_per_sqm:.1f} worms/m^2' )\n",
    "```\n",
    "\n",
    "The notation `:.1f` tells Python to format the value to 1 decimal place.\n",
    "\n",
    "<div class=\"alert alert-info\">\n",
    "\n",
    "Try doing this in the following code cell.\n",
    "\n",
    "How do you think you would round to 2 decimal places?\n",
    "\n",
    "</div>"
   ]
  },
  {
   "cell_type": "code",
   "execution_count": null,
   "metadata": {},
   "outputs": [],
   "source": []
  },
  {
   "cell_type": "markdown",
   "metadata": {},
   "source": [
    "## f-strings can contain many variables"
   ]
  },
  {
   "cell_type": "markdown",
   "metadata": {},
   "source": [
    "We can put as many variables into an f-string as we wish. Each one must be surrounded by curly brackets.\n",
    "\n",
    "<div class=\"alert alert-info\">\n",
    "    \n",
    "Run the following code to see how it's done.\n",
    "</div>"
   ]
  },
  {
   "cell_type": "code",
   "execution_count": null,
   "metadata": {},
   "outputs": [],
   "source": [
    "print( f'{number_of_worms} worms divided by {garden_area} m^2 equals {worms_per_sqm:.1f} worms/m^2' )"
   ]
  },
  {
   "cell_type": "markdown",
   "metadata": {},
   "source": [
    "f-strings are a great way to format output. We'll encounter them again many times."
   ]
  },
  {
   "cell_type": "markdown",
   "metadata": {},
   "source": [
    "## Exercise Notebook"
   ]
  },
  {
   "cell_type": "markdown",
   "metadata": {},
   "source": [
    "[Strings: working with text](Exercises/1.5%20-%20Strings:%20working%20with%20text.ipynb)"
   ]
  }
 ],
 "metadata": {
  "anaconda-cloud": {},
  "hide_input": false,
  "kernelspec": {
   "display_name": "Python 3 (ipykernel)",
   "language": "python",
   "name": "python3"
  },
  "language_info": {
   "codemirror_mode": {
    "name": "ipython",
    "version": 3
   },
   "file_extension": ".py",
   "mimetype": "text/x-python",
   "name": "python",
   "nbconvert_exporter": "python",
   "pygments_lexer": "ipython3",
   "version": "3.11.5"
  },
  "varInspector": {
   "cols": {
    "lenName": 16,
    "lenType": 16,
    "lenVar": 40
   },
   "kernels_config": {
    "python": {
     "delete_cmd_postfix": "",
     "delete_cmd_prefix": "del ",
     "library": "var_list.py",
     "varRefreshCmd": "print(var_dic_list())"
    },
    "r": {
     "delete_cmd_postfix": ") ",
     "delete_cmd_prefix": "rm(",
     "library": "var_list.r",
     "varRefreshCmd": "cat(var_dic_list()) "
    }
   },
   "types_to_exclude": [
    "module",
    "function",
    "builtin_function_or_method",
    "instance",
    "_Feature"
   ],
   "window_display": false
  }
 },
 "nbformat": 4,
 "nbformat_minor": 4
}
