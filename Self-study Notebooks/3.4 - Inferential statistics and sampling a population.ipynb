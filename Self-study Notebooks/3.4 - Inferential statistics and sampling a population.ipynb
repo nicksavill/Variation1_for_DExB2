{
 "cells": [
  {
   "cell_type": "markdown",
   "metadata": {},
   "source": [
    "# Sampling a population"
   ]
  },
  {
   "cell_type": "markdown",
   "metadata": {},
   "source": [
    "<div class=\"alert alert-warning\">\n",
    "\n",
    "**In this notebook you will learn about the difference between descriptive statistics and inferential statistics, samples and populations and sample statistics and population parameters.**\n",
    "    \n",
    "</div>"
   ]
  },
  {
   "cell_type": "markdown",
   "metadata": {},
   "source": [
    "We've learnt about visualising a set of data using a histogram and about describing the location and spread of data using descriptive statistics.\n",
    "\n",
    "The purpose of **descriptive statistics** is to summarise what we know about a set of data. \n",
    "\n",
    "However, statistics covers much more than that. In fact, descriptive statistics is one of the smallest parts of statistics, and one of the least powerful. The bigger and more useful part of statistics, called **inferential statistics**, is the part that lets scientists make **inferences** about the wider world and lets them test their ideas about how the natural world works. The word \"inference\" means the forming of a conclusion from data.\n",
    "\n",
    "But first, we need to be a bit more explicit about what it is that we’re drawing inferences from (known as the **sample**) and what it is that we’re drawing inferences about (known as the **population**)."
   ]
  },
  {
   "cell_type": "markdown",
   "metadata": {},
   "source": [
    "## What is a population and what is a sample?"
   ]
  },
  {
   "cell_type": "markdown",
   "metadata": {},
   "source": [
    "In almost all cases, what we have available to us as researchers is a sample of data. All of the datasets you've been examining over the last few weeks are samples.\n",
    "\n",
    "As researchers, you, and the scientific community, are not particularly interested in a sample of data. What we are actually interested in is the population of individuals from which the sample was drawn. It is this population we want to say something about, not the single small sample drawn from it. \n",
    "\n",
    "What is a population?\n",
    "\n",
    "That really depends on the scientific question you want to answer. So there is no one-size-fits-all answer.\n",
    "\n",
    "For example, in the field trips you collected data on the size of two-spot ladybirds in Edinburgh graveyards. If you want to understand how the density of Harlequin ladybirds affects the sizes of two-spot ladybirds, and that density varies between Edinburgh graveyards, then each graveyard is a separate population. However, if you want to understand how climate affects the size of two-spot ladybirds then your populations may be separate regions of a country or even different countries because climate varies on larger geographical scales than graveyards.\n",
    "\n",
    "Irrespective of how we define the population, the critical point is that a sample is a subset of a population, and usually a tiny subset of a population. Observational and experimental studies should be designed so that individuals are **randomly** sampled from a population. Which means that the chance an individual is sampled is the same for all individuals in the population. This is often easier said than done, but we don't have time in this course to discuss this thorny issue properly."
   ]
  },
  {
   "cell_type": "markdown",
   "metadata": {},
   "source": [
    "## Population parameters and sample statistics"
   ]
  },
  {
   "cell_type": "markdown",
   "metadata": {},
   "source": [
    "We've looked at lots of different datasets over the last few weeks. All of them contain data sampled from a population. We've plotted the data and calculated their descriptive statistics: i.e., means and standard deviations.\n",
    "\n",
    "In other words, the **sample mean** and **sample standard deviation** are descriptive statistics of a sample.\n",
    "\n",
    "The sample mean is usually denoted $\\bar{x}$ (pronounced x-bar) and the sample standard deviation is usually denoted $s$. For example, in Exercise 3.2.1 researchers sampled 33 worker bees. We found their mean foraging lifespan to be $\\bar{x}$ = 27.85 hours with a standard deviation of $s$ = 20.56 hours.\n",
    "\n",
    "In theory, if we measured the foraging lifespans of all worker bees in the world we would know the **population** mean foraging lifespan and the **population** standard deviation. \n",
    "\n",
    "The **population mean** and the **population standard deviation** are called **parameters**. The population mean is usually denoted $\\mu$ (pronounced mew) and the population standard deviation is usually denoted $\\sigma$ (pronounced sigma).\n",
    "\n",
    "To conclude, **statistics** describe a sample and **parameters** describe the population the sample was taken from.\n",
    "\n",
    "We don't know and, in most cases, will never know the population parameters because we can't measure every single individual in a population. But we do know the statistics of the small sample taken from the population. Inferential statistics is about inferring (making conclusions) about the population parameters from the sample statistics. \n",
    "\n",
    "For example, we can use the sample mean to infer the population mean. The inferred population mean is an **estimate** of the true population mean, and is usually denoted $\\hat{\\mu}$ (pronounced mew-hat). We'll look at an example in the next Notebook.\n",
    "\n",
    "The following table summarises all of this:\n",
    "\n",
    "| | Population parameter (unknown) | Sample statistic (known) | Inferred (estimated) population parameter (known)\n",
    ":--- | :---: | :---: | :---:\n",
    "mean | $\\mu$ (mew) | $\\bar{x}$ (x-bar) | $\\hat{\\mu}$ (mew-hat)\n",
    "st. dev. | $\\sigma$ (sigma) | $s$ | $\\hat{\\sigma}$ (sigma-hat)\n",
    "\n",
    "Next week we'll look at another example of inferential statistics: Inferring if two population means differ or not by comparing the means of the samples taken from each population."
   ]
  },
  {
   "cell_type": "markdown",
   "metadata": {},
   "source": [
    "## The sample size *n*"
   ]
  },
  {
   "cell_type": "markdown",
   "metadata": {},
   "source": [
    "There's one more piece of information we need to know about our sample.\n",
    "\n",
    "The number of values in our sample is called the **sample size**. It is usually denoted by *n*.\n",
    "\n",
    "For example, in the worker bee dataset we had a sample size of *n* = 33. \n",
    "\n",
    "The larger the sample size the better our knowledge is about the population the sample is drawn from. Which means our estimates of the population parameters are better (i.e., more precise to be precise). \n",
    "\n",
    "<div class=\"alert alert-info\">\n",
    "\n",
    "This is demonstrated in the interactive plot in the code cell below for a sample of the masses (in kg) of Alaskan sockeye salmon.\n",
    "    \n",
    "Run the following code cell and move the slider at the top of the plot to change the sample size *n*.\n",
    "    \n",
    "</div>"
   ]
  },
  {
   "cell_type": "code",
   "execution_count": null,
   "metadata": {
    "scrolled": false
   },
   "outputs": [],
   "source": [
    "%matplotlib widget\n",
    "from interactive_plots import Sample_size\n",
    "Sample_size();"
   ]
  },
  {
   "cell_type": "markdown",
   "metadata": {},
   "source": [
    "Clearly, larger sample sizes are better. With sample sizes below 30 our knowledge of the shape of the distribution of salmon masses is limited. As we increase the sample size above 30 the shape of the distribution becomes more clearly defined which results in more precise estimates of the population parameters.\n",
    " \n",
    "In science, however, there is a trade off between collecting larger samples for better knowledge about the population against the time, effort and cost of collecting large samples. Fortunately we can design experimental and observational studies that balance these two."
   ]
  },
  {
   "cell_type": "markdown",
   "metadata": {},
   "source": [
    "## Next Notebook"
   ]
  },
  {
   "cell_type": "markdown",
   "metadata": {},
   "source": [
    "[Estimating a population mean](3.5%20-%20Estimating%20a%20population%20mean.ipynb)"
   ]
  }
 ],
 "metadata": {
  "interpreter": {
   "hash": "5b34568b434bb6e5bf895c3fbf2a1e101e1e281d0c9e435769d397db7902ae33"
  },
  "kernelspec": {
   "display_name": "Python 3 (ipykernel)",
   "language": "python",
   "name": "python3"
  },
  "language_info": {
   "codemirror_mode": {
    "name": "ipython",
    "version": 3
   },
   "file_extension": ".py",
   "mimetype": "text/x-python",
   "name": "python",
   "nbconvert_exporter": "python",
   "pygments_lexer": "ipython3",
   "version": "3.11.5"
  },
  "varInspector": {
   "cols": {
    "lenName": 16,
    "lenType": 16,
    "lenVar": 40
   },
   "kernels_config": {
    "python": {
     "delete_cmd_postfix": "",
     "delete_cmd_prefix": "del ",
     "library": "var_list.py",
     "varRefreshCmd": "print(var_dic_list())"
    },
    "r": {
     "delete_cmd_postfix": ") ",
     "delete_cmd_prefix": "rm(",
     "library": "var_list.r",
     "varRefreshCmd": "cat(var_dic_list()) "
    }
   },
   "types_to_exclude": [
    "module",
    "function",
    "builtin_function_or_method",
    "instance",
    "_Feature"
   ],
   "window_display": false
  }
 },
 "nbformat": 4,
 "nbformat_minor": 2
}
