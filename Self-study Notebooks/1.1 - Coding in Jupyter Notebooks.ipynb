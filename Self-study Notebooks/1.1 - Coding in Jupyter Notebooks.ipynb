{
 "cells": [
  {
   "cell_type": "markdown",
   "metadata": {},
   "source": [
    "# Coding in Jupyter Notebooks"
   ]
  },
  {
   "cell_type": "markdown",
   "metadata": {},
   "source": [
    "<div class=\"alert alert-warning\">\n",
    "\n",
    "**In this Notebook you will learn how Jupyter Notebooks work.**\n",
    "    \n",
    "</div>"
   ]
  },
  {
   "cell_type": "markdown",
   "metadata": {
    "button": false,
    "nbgrader": {},
    "new_sheet": false
   },
   "source": [
    "Over the next few weeks you will learn the basics of coding and statistics. To do this we are using a **programming language** called **Python**. Python is an easy-to-learn, but very powerful, programming language. As well as powering many of the apps on your phone, Python is widely used in industry and science including the Biological and Medical Sciences.\n",
    "\n",
    "To be able to write Python code and then run it you need to use a programming environment. There are many such environments; the one you will be using in this course is called a **Jupyter Notebook**. In fact, what you are reading now is a Jupyter Notebook. They are widely used in science because both text, images, videos and code can be combined into a single document within a web browser. So they can be accessed anywhere that has an internet connection.\n",
    "\n",
    "At Edinburgh Uni Jupyter Notebooks are stored and run on a service called **Noteable**. This service is always available so you can use it any time you need to write some code. You will be using Noteable not only in this course but in the Discovery course in semester 2 and other courses in later years.\n",
    "\n",
    "A Notebook consists of a series of **cells**. There are two types of cells: **Markdown cells** that contain text and images, like the one you are reading right now, and **Code cells** that contain Python code and the output of running that code. The cell just below this one is a **Code cell**.\n",
    "\n",
    "You can tell if a cell is a Code cell because it has a light grey background and its left margin contains `In [ ]:`"
   ]
  },
  {
   "cell_type": "code",
   "execution_count": null,
   "metadata": {
    "button": false,
    "nbgrader": {},
    "new_sheet": false
   },
   "outputs": [],
   "source": [
    "# this is a code cell\n",
    "# here is some Python code\n",
    "\n",
    "print('I am a code cell')"
   ]
  },
  {
   "cell_type": "markdown",
   "metadata": {
    "deletable": false,
    "editable": false
   },
   "source": [
    "## Selecting a cell"
   ]
  },
  {
   "cell_type": "markdown",
   "metadata": {
    "button": false,
    "nbgrader": {},
    "new_sheet": false
   },
   "source": [
    "You can select a cell by using the up and down arrow keys on your keyboard. You can tell if a cell is selected because it has a blue border around it.\n",
    "\n",
    "<div class=\"alert alert-info\">\n",
    "\n",
    "Try selecting different cells in this Notebook using the up and down arrow keys.\n",
    "    \n",
    "</div>"
   ]
  },
  {
   "cell_type": "markdown",
   "metadata": {},
   "source": [
    "You can also select a cell by placing the cursor over it and tapping the track pad."
   ]
  },
  {
   "cell_type": "markdown",
   "metadata": {
    "button": false,
    "nbgrader": {},
    "new_sheet": false
   },
   "source": [
    "## Command mode and edit mode"
   ]
  },
  {
   "cell_type": "markdown",
   "metadata": {
    "button": false,
    "nbgrader": {},
    "new_sheet": false
   },
   "source": [
    "Notebooks have two modes: **command mode** and **edit mode**. By default a Notebook begins in command mode. In order to edit a cell, you need to be in edit mode.\n",
    "\n",
    "When you are in command mode, you can press **enter** or **return** to switch to edit mode. The border of the cell you currently have selected will turn green, and a cursor will appear.\n",
    "\n",
    "<div class=\"alert alert-info\">\n",
    "\n",
    "1. Select the following code cell using the arrow keys so that it has a blue border.\n",
    "2. Switch to edit mode by pressing **enter** or **return**.\n",
    "    \n",
    "</div>"
   ]
  },
  {
   "cell_type": "code",
   "execution_count": null,
   "metadata": {
    "button": false,
    "nbgrader": {},
    "new_sheet": false
   },
   "outputs": [],
   "source": [
    "# this is a code cell\n",
    "# here is some Python code\n",
    "\n",
    "print('I am a code cell')"
   ]
  },
  {
   "cell_type": "markdown",
   "metadata": {
    "button": false,
    "nbgrader": {},
    "new_sheet": false
   },
   "source": [
    "When you are in edit mode, you can press **escape (or esc)** to switch to command mode. The border of the cell you currently have selected will turn blue, and the cursor will disappear.\n",
    "\n",
    "<div class=\"alert alert-info\">\n",
    "\n",
    "1. Keep the above code cell selected.\n",
    "2. Switch between command mode and edit mode by pressing **escape** and **enter**\n",
    "    \n",
    "</div>"
   ]
  },
  {
   "cell_type": "markdown",
   "metadata": {
    "button": false,
    "nbgrader": {},
    "new_sheet": false
   },
   "source": [
    "## Running a code cell runs its code and produces output"
   ]
  },
  {
   "cell_type": "markdown",
   "metadata": {
    "button": false,
    "nbgrader": {},
    "new_sheet": false
   },
   "source": [
    "When you **run** or **execute** Python code in a code cell any output is displayed just below the code.\n",
    "\n",
    "You can execute cells with **ctrl-enter** (press and hold **ctrl** then press **enter**) or **ctrl-return**.\n",
    "\n",
    "<div class=\"alert alert-info\">\n",
    "\n",
    "1. Select the following code cell.\n",
    "2. Run it by pressing **ctrl-enter** or **ctrl-return**.\n",
    "\n",
    "</div>"
   ]
  },
  {
   "cell_type": "code",
   "execution_count": null,
   "metadata": {
    "button": false,
    "nbgrader": {},
    "new_sheet": false
   },
   "outputs": [],
   "source": [
    "# this is a code cell\n",
    "# here is some Python code\n",
    "\n",
    "print('I am a code cell')"
   ]
  },
  {
   "cell_type": "markdown",
   "metadata": {},
   "source": [
    "## How to save and close Jupyter Notebooks"
   ]
  },
  {
   "cell_type": "markdown",
   "metadata": {},
   "source": [
    "To save a Notebook either type **ctrl-s** or click \"File\" in the top-left and click \"Save and Checkpoint\".\n",
    "\n",
    "To close a Notebook click \"File\" and click \"Close and Halt\". This cleanly closes the browser tab. If you try to close a Notebook without saving, you'll get a warning pop-up.\n",
    "\n",
    "<div class=\"alert alert-info\">\n",
    "\n",
    "1. Save this Notebook.\n",
    "2. Cleanly close the Notebook then re-open it. You should see that the changes you have made were saved.\n",
    "\n",
    "</div>\n"
   ]
  },
  {
   "cell_type": "markdown",
   "metadata": {},
   "source": [
    "## Next Notebook"
   ]
  },
  {
   "cell_type": "markdown",
   "metadata": {},
   "source": [
    "Click on the link below to read the next Notebook.\n",
    "\n",
    "[Errors and comments](1.2%20-%20Errors%20and%20comments.ipynb)"
   ]
  }
 ],
 "metadata": {
  "anaconda-cloud": {},
  "hide_input": false,
  "kernelspec": {
   "display_name": "Python 3 (ipykernel)",
   "language": "python",
   "name": "python3"
  },
  "language_info": {
   "codemirror_mode": {
    "name": "ipython",
    "version": 3
   },
   "file_extension": ".py",
   "mimetype": "text/x-python",
   "name": "python",
   "nbconvert_exporter": "python",
   "pygments_lexer": "ipython3",
   "version": "3.11.5"
  },
  "toc": {
   "base_numbering": 1,
   "nav_menu": {},
   "number_sections": false,
   "sideBar": true,
   "skip_h1_title": false,
   "title_cell": "Table of Contents",
   "title_sidebar": "Contents",
   "toc_cell": true,
   "toc_position": {},
   "toc_section_display": true,
   "toc_window_display": false
  },
  "varInspector": {
   "cols": {
    "lenName": 16,
    "lenType": 16,
    "lenVar": 40
   },
   "kernels_config": {
    "python": {
     "delete_cmd_postfix": "",
     "delete_cmd_prefix": "del ",
     "library": "var_list.py",
     "varRefreshCmd": "print(var_dic_list())"
    },
    "r": {
     "delete_cmd_postfix": ") ",
     "delete_cmd_prefix": "rm(",
     "library": "var_list.r",
     "varRefreshCmd": "cat(var_dic_list()) "
    }
   },
   "types_to_exclude": [
    "module",
    "function",
    "builtin_function_or_method",
    "instance",
    "_Feature"
   ],
   "window_display": false
  },
  "vscode": {
   "interpreter": {
    "hash": "5b34568b434bb6e5bf895c3fbf2a1e101e1e281d0c9e435769d397db7902ae33"
   }
  }
 },
 "nbformat": 4,
 "nbformat_minor": 4
}
