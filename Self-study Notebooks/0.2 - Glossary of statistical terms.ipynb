{
 "cells": [
  {
   "cell_type": "markdown",
   "id": "f29bb5f9",
   "metadata": {},
   "source": [
    "# Glossary of statistical terms in this course"
   ]
  },
  {
   "cell_type": "markdown",
   "id": "9c700d3d",
   "metadata": {},
   "source": [
    "**Clicking on a term takes you to the relevant notebook.**\n",
    "\n",
    "\n",
    "Term | Definition\n",
    ":--- | :---\n",
    "[68-95-99.7% rule](3.3%20-%20Normal%20distribution.ipynb#rule) | A useful rule for describing the distribution of normally distributed data and for understanding what standard deviation represents.\n",
    "[95% CI](3.5%20-%20Estimating%20a%20population%20mean.ipynb#95ci) | See 95% confidence interval.\n",
    "[95% confidence interval](3.5%20-%20Estimating%20a%20population%20mean.ipynb#95ci) | An interval estimate of the population mean. You do not know if the population mean lies in your confidence interval but you have some measure of how precise your estimate is and a good indication of its value.\n",
    "[Alternative hypothesis](4.1%20-%20Comparing%20two%20population%20means.ipynb#The-statistical-hypotheses) | A claim that there is a difference between two populations. Usually written as *H*<sub>A</sub> or *H*<sub>1</sub>. Although stated as the logical opposite to the null hypothesis, it is not used in null hypothesis significance testing.\n",
    "[Average](3.1%20-%20Descriptive%20statistics%20-%20location.ipynb) | An ambiguous term. It usually denotes the arithmetic mean (add values and divide by number of values), but it can also denote the median, the mode, the geometric mean, and weighted means, among other things.\n",
    "[Bar plot](3.5%20-%20Estimating%20a%20population%20mean.ipynb#Visualising-estimates-of-population-means-with-bar-plots) | A distribution plot for categorical data. Each category is represented by a bar. The height of a bar is the frequency or relative frequency of that category.\n",
    "Bimodal | A distribution having two modes.\n",
    "[CSV data file](../Coding%20Practicals%20Notebooks/Coding%203%20-%20Working%20with%20data.ipynb#Reading-data-from-a-file) | \"Comma-separated values\". A human-readable file type for storing data.\n",
    "Categorical variable | Categorical variables describe qualitative characteristics of individuals. A characteristic may have two or more values, or categories.\n",
    "Continuous numerical variable | A numerical variable that is uncountable (i.e, there are an infinite number of numbers between any two arbitrary numbers). For example, height, concentration, temperature.\n",
    "[DataFrame](../Coding%20Practicals%20Notebooks/Coding%203%20-%20Working%20with%20data.ipynb#Pandas:-A-data-analysis-module) | A table of data stored in computer memory.\n",
    "Data |  Data are the values of a variable that are measured in a sample of individuals in an experimental or observational study.\n",
    "[Descriptive statistics](3.4%20-%20Inferential%20statistics%20and%20sampling%20a%20population.ipynb) | Numbers and graphs that summarise and describe a sample of data. Also, the part of statistics that is concerned with summarising and describing samples.\n",
    "Discrete numerical variable | A numerical variable that can be counted, i.e, 1, 2, 3, etc. (e.g., Number of amino acids in a protein).\n",
    "[Frequency distribution](../Coding%20Practicals%20Notebooks/Coding%203%20-%20Working%20with%20data.ipynb#Frequency-and-relative-frequency-distributions) | A visual representation of how data are distributed across categories for categorical data (bar plot) or across the real numbers for numerical data (histogram). The heights of the bars represent frequencies. \n",
    "[Frequency](2.4%20-%20Counting%20values.ipynb) | For categorical variables the frequency of a value is the number of times it occurs in a sample. For numerical variables it is the number of values within a range. \n",
    "[Histogram](../Coding%20Practicals%20Notebooks/Coding%203%20-%20Working%20with%20data.ipynb#Frequency-and-relative-frequency-distributions) | A histogram is a plot that summarises how data are distributed. A histogram is a set of rectangles (called \"bins\"). The height of a rectangle is the frequency or relative frequency of data values within that bin.\n",
    "[Inferential statistics](3.4%20-%20Inferential%20statistics%20and%20sampling%20a%20population.ipynb) | The part of statistics concerned with making inferences (conclusions) about populations from samples drawn from them.\n",
    "[Location, centre](3.1%20-%20Descriptive%20statistics%20-%20location.ipynb) | A numerical description of the centre of a sample; a typical value for individuals. Common measures of centre are the mean, median and mode.\n",
    "[Mean, arithmetic mean](3.1%20-%20Descriptive%20statistics%20-%20location.ipynb) | The sum of values in a sample divided by the sample size. Usually denoted $\\bar{x}$ or $\\bar{y}$.\n",
    "Median | \"Middle value\" of a sample. When ordered, the median splits the data into two halves. \n",
    "Mode |  The most common (frequent) value. A sample can have more than one mode.\n",
    "Multi-modal | A distribution having more than one mode.\n",
    "Nominal categorical variable | A categorical variable whose values do not have a natural order (e.g., brown, blue, green, hazel, grey eye colour).\n",
    "[Normal distribution](3.3%20-%20Normal%20distribution.ipynb) | Many variables in biology have a normal distribution. It is symmetrical with a central peak. It is completely characterised by its mean and standard deviation. It is also called a Bell curve or a Gaussian distribution.\n",
    "[Normally distributed data](3.3%20-%20Normal%20distribution.ipynb) | Data that have a normal distribution.\n",
    "[Null hypothesis significance testing](4.1%20-%20Comparing%20two%20population%20means.ipynb) | NHST is a method of statistical inference used to decide whether the data collected in an experimental or observational study is sufficient to challenge the null hypothesis that there is no difference between two or more populations. Although it has several shortcomings it is still the most common method of statistical inference in the biological and medical sciences.\n",
    "[Null hypothesis](4.1%20-%20Comparing%20two%20population%20means.ipynb#The-statistical-hypotheses) | A claim that there is no difference between two populations. Usually written as *H*<sub>0</sub>. The null hypothesis is challenged in Null hypothesis significance testing with the aim of rejecting it.\n",
    "Numerical variable | A numerical variable is a characteristic of an individual that has magnitude. They describe quantitative characteristics of individuals.\n",
    "Ordinal categorical variable | A categorical variable whose values have a natural order (e.g., low, medium, high species diversity).\n",
    "Outlier | An outlier is an observation that is many standard deviations from the mean. It is sometimes tempting to discard outliers, but this is imprudent unless the cause of the outlier can be identified, and the outlier is determined to be spurious. Otherwise, discarding outliers can cause one to underestimate the true variability of the measurement process.\n",
    "[*p*-value](4.1%20-%20Comparing%20two%20population%20means.ipynb#Probability-of-observing-a-difference-as-unusually-high-as-0.49-mm-if-the-null-hypothesis-were-true:-The-*p*-value) | The probability a test statistic is at least as unusual as that observed. \n",
    "[Percent](2.4%20-%20Counting%20values.ipynb#Relative-frequency-(proportion)) | \"%\" means \"divide by 100\". So \"34%\" can be read as \"34 divided by 100\" which equals 0.34.\n",
    "[Population mean](3.4%20-%20Inferential%20statistics%20and%20sampling%20a%20population.ipynb#Population-parameters-and-sample-statistics) | The mean value of a variable of a population. Almost always never known, but can be estimated from a sample drawn from the population.\n",
    "[Population standard deviation](3.4%20-%20Inferential%20statistics%20and%20sampling%20a%20population.ipynb#Population-parameters-and-sample-statistics) | The standard deviation of a value of a variable of a population. Almost always never known, but can be estimated from a sample drawn from the population.\n",
    "[Population](3.4%20-%20Inferential%20statistics%20and%20sampling%20a%20population.ipynb#What-is-a-population-and-what-is-a-sample?) | A collection of individuals being studied. Individuals can be people, places, objects, epochs, drugs, procedures, or many other things.\n",
    "[Proportion](2.4%20-%20Counting%20values.ipynb#Relative-frequency-(proportion)) | Frequency divided by the sample size. Also known as relative frequency. Can be written as a fraction, decimal or percentage (e.g., 1/2 = 0.5 = 50%)\n",
    "[Relative Frequency](2.4%20-%20Counting%20values.ipynb#Relative-frequency-(proportion)) | Frequency divided by the sample size. Also known as proportion. Can be written as a fraction, decimal or percentage (e.g., 1/2 = 0.5 = 50%)\n",
    "[Relative frequency distribution](../Coding%20Practicals%20Notebooks/Coding%203%20-%20Working%20with%20data.ipynb#Frequency-and-relative-frequency-distributions) | A visual representation of how data are distributed across categories for categorical data (bar plot) or across the real numbers for numerical data (histogram). The heights of the bars represent relative frequencies. \n",
    "[Research hypothesis](4.1%20-%20Comparing%20two%20population%20means.ipynb#The-research-hypothesis) | A statement that links cause and effect of natural phenomena that a researcher is interested in testing.\n",
    "[Sample mean](3.4%20-%20Inferential%20statistics%20and%20sampling%20a%20population.ipynb#Population-parameters-and-sample-statistics) | See Mean.\n",
    "[Sample size](3.4%20-%20Inferential%20statistics%20and%20sampling%20a%20population.ipynb#The-sample-size-n) | The number of individuals in a sample.\n",
    "[Sample standard deviation](3.4%20-%20Inferential%20statistics%20and%20sampling%20a%20population.ipynb#Population-parameters-and-sample-statistics) | See standard deviation.\n",
    "[Sample](3.4%20-%20Inferential%20statistics%20and%20sampling%20a%20population.ipynb#What-is-a-population-and-what-is-a-sample?) | A, usually small, collection of individuals randomly drawn from a much larger population.\n",
    "[Sampling distribution (of a statistic)](3.5%20-%20Estimating%20a%20population%20mean.ipynb#A-histogram-of-estimates-of-the-population-mean:-The-sampling-distribution) | The distribution of a statistic (e.g., the sample mean $\\bar{x}$) found by repeated random sampling of a population. \n",
    "[Significance level](4.1%20-%20Comparing%20two%20population%20means.ipynbb#To-reject-or-not-reject-the-null-hypothesis) | Usually denoted $\\alpha$. It is the arbitrary threshold of the *p*-value at which the null hypothesis is rejected ($p<\\alpha$) or not rejected ($p\\ge\\alpha$). The conventional value of $\\alpha$ is 0.05. Which means there is a 0.05, or 1 in 20, chance for rejecting the null hypothesis when, in fact, it is true. \n",
    "[Spread](3.2%20-%20Descriptive%20statistics%20-%20spread.ipynb) | A numerical description of how variable individuals are from each other. Common measures of spread are the range, inter-quartile range, and standard deviation.\n",
    "[Standard deviation](3.2%20-%20Descriptive%20statistics%20-%20spread.ipynb#Standard-deviation) | A measure of how far from the mean the values of a sample typically are. Usually denoted *s*. \n",
    "[Standard error (of the mean)](3.5%20-%20Estimating%20a%20population%20mean.ipynb#Standard-error-of-the-mean) | The standard deviation of the sampling distribution of the mean. Its value is estimated by the formula $\\frac{s}{\\sqrt{n}}$. It is a measure of how precise the estimate of a population mean is. It is used in the formula for the 95% confidence interval. Usually written as SE or SEM.\n",
    "[Statistically significant](4.1%20-%20Comparing%20two%20population%20means.ipynb#Reporting-the-result-of-the-test) | When a null hypothesis is rejected ($p<\\alpha$) then the result is said to be statistically significant.\n",
    "[Test statistic](4.1%20-%20Comparing%20two%20population%20means.ipynb#The-test-statistic) | A test statistic is a statistic (a quantity derived from one or more samples) used in statistical tests to draw conclusions about the populations the samples are drawn from. \n",
    "[Two sample *t*-test](4.1%20-%20Comparing%20two%20population%20means.ipynb) | The standard test for determining if two population means differ. It uses the *t*-statistic which is the difference in sample means divided by the standard error of the difference in sample means.\n",
    "Variable | A variable is any characteristic of a person, place, thing, or idea that can be measured. The value of that variable can vary from one entity to another. Variables can be categorical (nominal or ordinal) or numerical (discrete or continuous).\n"
   ]
  }
 ],
 "metadata": {
  "kernelspec": {
   "display_name": "Python 3 (ipykernel)",
   "language": "python",
   "name": "python3"
  },
  "language_info": {
   "codemirror_mode": {
    "name": "ipython",
    "version": 3
   },
   "file_extension": ".py",
   "mimetype": "text/x-python",
   "name": "python",
   "nbconvert_exporter": "python",
   "pygments_lexer": "ipython3",
   "version": "3.11.5"
  },
  "varInspector": {
   "cols": {
    "lenName": 16,
    "lenType": 16,
    "lenVar": 40
   },
   "kernels_config": {
    "python": {
     "delete_cmd_postfix": "",
     "delete_cmd_prefix": "del ",
     "library": "var_list.py",
     "varRefreshCmd": "print(var_dic_list())"
    },
    "r": {
     "delete_cmd_postfix": ") ",
     "delete_cmd_prefix": "rm(",
     "library": "var_list.r",
     "varRefreshCmd": "cat(var_dic_list()) "
    }
   },
   "types_to_exclude": [
    "module",
    "function",
    "builtin_function_or_method",
    "instance",
    "_Feature"
   ],
   "window_display": false
  }
 },
 "nbformat": 4,
 "nbformat_minor": 5
}
