{
 "cells": [
  {
   "cell_type": "markdown",
   "metadata": {},
   "source": [
    "# Numbers and arithmetic"
   ]
  },
  {
   "cell_type": "markdown",
   "metadata": {},
   "source": [
    "<div class=\"alert alert-warning\">\n",
    "\n",
    "**In this notebook you will learn** \n",
    "- how to do arithmetic in Python\n",
    "- how large and small numbers are represented\n",
    "    \n",
    "</div>"
   ]
  },
  {
   "cell_type": "markdown",
   "metadata": {},
   "source": [
    "Computers are essentially soupped-up calculators. So let's see how numbers are represented in Python and how we do the basic arithmetic of addition, subtraction, and so on.  "
   ]
  },
  {
   "cell_type": "markdown",
   "metadata": {},
   "source": [
    "## Simple arithmetic"
   ]
  },
  {
   "cell_type": "markdown",
   "metadata": {},
   "source": [
    "In Python we can add (`2 + 3`), subtract (`2 - 3`), multiply (`2 * 3`) and divide (`2 / 3`) numbers. \n",
    "\n",
    "We can also raise a number to a power, e.g. 3 squared is `3**2`.\n",
    "\n",
    "<div class=\"alert alert-info\">\n",
    "\n",
    "Try these out in the following code cell by running it with **ctrl-enter**.\n",
    "\n",
    "</div>"
   ]
  },
  {
   "cell_type": "code",
   "execution_count": null,
   "metadata": {},
   "outputs": [],
   "source": [
    "# simple arithmetic\n",
    "\n",
    "2+3"
   ]
  },
  {
   "cell_type": "markdown",
   "metadata": {},
   "source": [
    "### Aside: Jupyter Notebook output\n",
    "\n",
    "If we don't use `print()` in code cells only the last result in the cell is printed. Which means running \n",
    "```python\n",
    "2+3\n",
    "2*3\n",
    "```\n",
    "only outputs \n",
    "```python\n",
    "6\n",
    "```\n",
    "If we want to output more than one result we need to use `print()` like so:\n",
    "```python\n",
    "print( 2+3 )\n",
    "print( 2*3 )\n",
    "```\n",
    "which outputs\n",
    "```python\n",
    "5\n",
    "6\n",
    "```"
   ]
  },
  {
   "cell_type": "markdown",
   "metadata": {},
   "source": [
    "## Very large and very small numbers: Scientific E-notation"
   ]
  },
  {
   "cell_type": "markdown",
   "metadata": {},
   "source": [
    "The diameter of a bacterium is about 0.0000001 metres. The number of people on the planet is about 8,170,000,000 (according to [this website](https://www.worldometers.info/world-population)). \n",
    "\n",
    "Writing out very small and very large numbers like this is tedious and error prone. They are also difficult to read.\n",
    "\n",
    "In science we use scientific notation to represent such numbers. So 0.0000001 is $1\\times 10^{-6}$ in scientific notation and 8,170,000,000 is $8.17\\times 10^{9}$. That is, we use powers of ten to represent these numbers. \n",
    "\n",
    "Python uses a similar notation called e-notation: It uses the letter `e` instead of $\\times10$. The `e` stands for *exponent*. So $1\\times 10^{-6}$ is \n",
    "\n",
    "    1e-6\n",
    "in e-notation, and $8.17\\times 10^{9}$ is\n",
    "\n",
    "    8.17e9\n",
    "\n",
    "You can use this notation when doing arithmetic as shown in the following code.\n",
    "\n",
    "\n",
    "<div class=\"alert alert-info\">\n",
    "\n",
    "Run the following code cell to see the output.\n",
    "\n",
    "</div>\n",
    "\n"
   ]
  },
  {
   "cell_type": "code",
   "execution_count": null,
   "metadata": {},
   "outputs": [],
   "source": [
    "# e-notation\n",
    "\n",
    "print( 3.4e7 * 2.3e-9 )"
   ]
  },
  {
   "cell_type": "markdown",
   "metadata": {},
   "source": [
    "## Exercise Notebook"
   ]
  },
  {
   "cell_type": "markdown",
   "metadata": {},
   "source": [
    "[Numbers and arithmetic](Exercises/1.3%20-%20Numbers%20and%20arithmetic.ipynb)"
   ]
  }
 ],
 "metadata": {
  "kernelspec": {
   "display_name": "Python 3 (ipykernel)",
   "language": "python",
   "name": "python3"
  },
  "language_info": {
   "codemirror_mode": {
    "name": "ipython",
    "version": 3
   },
   "file_extension": ".py",
   "mimetype": "text/x-python",
   "name": "python",
   "nbconvert_exporter": "python",
   "pygments_lexer": "ipython3",
   "version": "3.11.5"
  },
  "varInspector": {
   "cols": {
    "lenName": 16,
    "lenType": 16,
    "lenVar": 40
   },
   "kernels_config": {
    "python": {
     "delete_cmd_postfix": "",
     "delete_cmd_prefix": "del ",
     "library": "var_list.py",
     "varRefreshCmd": "print(var_dic_list())"
    },
    "r": {
     "delete_cmd_postfix": ") ",
     "delete_cmd_prefix": "rm(",
     "library": "var_list.r",
     "varRefreshCmd": "cat(var_dic_list()) "
    }
   },
   "types_to_exclude": [
    "module",
    "function",
    "builtin_function_or_method",
    "instance",
    "_Feature"
   ],
   "window_display": false
  }
 },
 "nbformat": 4,
 "nbformat_minor": 4
}
