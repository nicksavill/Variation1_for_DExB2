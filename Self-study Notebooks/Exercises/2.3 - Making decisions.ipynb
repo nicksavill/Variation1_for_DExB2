{
 "cells": [
  {
   "cell_type": "markdown",
   "metadata": {
    "solution2": "hidden",
    "solution2_first": true
   },
   "source": [
    "### Exercise 2.3.1\n",
    "\n",
    "The following code has an error. Correct the code to make it work.\n",
    "\n",
    "```python\n",
    "x = 10\n",
    "if x < 20:\n",
    "print(f'{x} is less than 20')\n",
    "```"
   ]
  },
  {
   "cell_type": "markdown",
   "metadata": {
    "solution2": "hidden"
   },
   "source": [
    "> The `print()` statement below the condition must be indented\n",
    "```python\n",
    "x = 10\n",
    "if x < 20:\n",
    "    print(f'{x} is less than 20')\n",
    "```"
   ]
  },
  {
   "cell_type": "code",
   "execution_count": null,
   "metadata": {},
   "outputs": [],
   "source": [
    "x = 10\n",
    "if x < 20:\n",
    "print(f'{x} is less than 20')"
   ]
  },
  {
   "cell_type": "markdown",
   "metadata": {
    "solution2": "hidden",
    "solution2_first": true
   },
   "source": [
    "### Exercise 2.3.2\n",
    "\n",
    "The following code has an error. Correct the code to make it work.\n",
    "\n",
    "```python\n",
    "x = 10\n",
    "if x < 20\n",
    "    print(f'{x} is less than 20')\n",
    "```"
   ]
  },
  {
   "cell_type": "markdown",
   "metadata": {
    "solution2": "hidden"
   },
   "source": [
    "> The colon is missing after the condition\n",
    "```python\n",
    "x = 10\n",
    "if x < 20:\n",
    "    print(f'{x} is less than 20')\n",
    "```"
   ]
  },
  {
   "cell_type": "code",
   "execution_count": null,
   "metadata": {},
   "outputs": [],
   "source": [
    "x = 10\n",
    "if x < 20\n",
    "    print(f'{x} is less than 20')"
   ]
  },
  {
   "cell_type": "markdown",
   "metadata": {
    "solution2": "hidden",
    "solution2_first": true
   },
   "source": [
    "### Exercise 2.3.3\n",
    "\n",
    "The following code has an error. Correct the code to make it work.\n",
    "\n",
    "```python\n",
    "x = 10\n",
    "if x < 20:\n",
    "    print(f'{x} is less than 20')\n",
    "else:\n",
    "```"
   ]
  },
  {
   "cell_type": "markdown",
   "metadata": {
    "solution2": "hidden"
   },
   "source": [
    "> The statement below `else:` is missing\n",
    "```python\n",
    "x = 10\n",
    "if x < 20:\n",
    "    print(f'{x} is less than 20')\n",
    "else:\n",
    "    print(f'{x} is equal to or more than 20')\n",
    "```"
   ]
  },
  {
   "cell_type": "code",
   "execution_count": null,
   "metadata": {},
   "outputs": [],
   "source": [
    "x = 10\n",
    "if x < 20:\n",
    "    print(f'{x} is less than 20')\n",
    "else:"
   ]
  },
  {
   "cell_type": "markdown",
   "metadata": {
    "solution2": "hidden",
    "solution2_first": true
   },
   "source": [
    "### Exercise 2.3.4\n",
    "\n",
    "The following code has an error. Correct the code to make it work.\n",
    "\n",
    "```python\n",
    "x = 10\n",
    "if x = 20:\n",
    "    print(f'{x} equals 20')\n",
    "else:\n",
    "    print(f'{x} does not equal 20')\n",
    "```"
   ]
  },
  {
   "cell_type": "markdown",
   "metadata": {
    "solution2": "hidden"
   },
   "source": [
    "> To test equality in a condition use the double equals sign comparison operator `==` not the single equals sign `=`.\n",
    "```python\n",
    "x = 10\n",
    "if x == 20:\n",
    "    print(f'{x} equals 20')\n",
    "else:\n",
    "    print(f'{x} does not equal 20')\n",
    "```"
   ]
  },
  {
   "cell_type": "code",
   "execution_count": null,
   "metadata": {},
   "outputs": [],
   "source": [
    "x = 10\n",
    "if x = 20:\n",
    "    print(f'{x} equals 20')\n",
    "else:\n",
    "    print(f'{x} does not equal 20')"
   ]
  },
  {
   "cell_type": "markdown",
   "metadata": {
    "solution2": "hidden",
    "solution2_first": true
   },
   "source": [
    "### Exercise 2.3.6\n",
    "\n",
    "The normal range of human body temperature is 36.1 $^\\circ$C to 37.2 $^\\circ$C. It varies by person, age, activity, and time of day.\n",
    "\n",
    "Complete the code below to print out whether Jane's body temperature is within this normal range or not.\n",
    "\n",
    "<div class=\"alert alert-info\">\n",
    "Your answer should be\n",
    "\n",
    "    Jane's temperature of 38.5 deg C is outside the normal range\n",
    "</div>"
   ]
  },
  {
   "cell_type": "code",
   "execution_count": null,
   "metadata": {
    "solution2": "hidden"
   },
   "outputs": [],
   "source": [
    "jane_temp = 38.5\n",
    "\n",
    "if 36.1 < jane_temp < 37.2:\n",
    "    print(f\"Jane's temperature of {jane_temp} deg C is within the normal range\")\n",
    "    \n",
    "else:\n",
    "    print(f\"Jane's temperature of {jane_temp} deg C is outside the normal range\")"
   ]
  },
  {
   "cell_type": "code",
   "execution_count": null,
   "metadata": {},
   "outputs": [],
   "source": [
    "jane_temp = 38.5\n",
    "\n",
    "# Add your code below here\n"
   ]
  },
  {
   "cell_type": "markdown",
   "metadata": {},
   "source": [
    "## Next Notebook"
   ]
  },
  {
   "cell_type": "markdown",
   "metadata": {},
   "source": [
    "[Counting values](../2.4%20-%20Counting%20values.ipynb)"
   ]
  }
 ],
 "metadata": {
  "kernelspec": {
   "display_name": "Python 3 (ipykernel)",
   "language": "python",
   "name": "python3"
  },
  "language_info": {
   "codemirror_mode": {
    "name": "ipython",
    "version": 3
   },
   "file_extension": ".py",
   "mimetype": "text/x-python",
   "name": "python",
   "nbconvert_exporter": "python",
   "pygments_lexer": "ipython3",
   "version": "3.11.5"
  },
  "varInspector": {
   "cols": {
    "lenName": 16,
    "lenType": 16,
    "lenVar": 40
   },
   "kernels_config": {
    "python": {
     "delete_cmd_postfix": "",
     "delete_cmd_prefix": "del ",
     "library": "var_list.py",
     "varRefreshCmd": "print(var_dic_list())"
    },
    "r": {
     "delete_cmd_postfix": ") ",
     "delete_cmd_prefix": "rm(",
     "library": "var_list.r",
     "varRefreshCmd": "cat(var_dic_list()) "
    }
   },
   "types_to_exclude": [
    "module",
    "function",
    "builtin_function_or_method",
    "instance",
    "_Feature"
   ],
   "window_display": false
  }
 },
 "nbformat": 4,
 "nbformat_minor": 4
}
