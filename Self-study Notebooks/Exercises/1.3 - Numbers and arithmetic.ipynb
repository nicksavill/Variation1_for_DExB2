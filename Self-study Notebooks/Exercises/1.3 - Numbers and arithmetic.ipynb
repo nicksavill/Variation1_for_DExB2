{
 "cells": [
  {
   "cell_type": "markdown",
   "metadata": {},
   "source": [
    "Some exercises give you the expected output of your code in blue boxes. These are there to help you write the correct code."
   ]
  },
  {
   "cell_type": "markdown",
   "metadata": {
    "solution2": "hidden",
    "solution2_first": true
   },
   "source": [
    "### Exercise 1.3.1\n",
    "\n",
    "The following code tries to output the value of \n",
    "$$\n",
    "\\frac{20+5}{4}\n",
    "$$\n",
    "but it has an error. Correct the code to make it work.\n",
    "\n",
    "```python\n",
    "print( (20 + 5 / 4 )\n",
    "```"
   ]
  },
  {
   "cell_type": "markdown",
   "metadata": {
    "solution2": "hidden"
   },
   "source": [
    "> There is a missing closing parenthesis after 5:\n",
    "```python\n",
    "print( (20 + 5) / 4 )\n",
    "```"
   ]
  },
  {
   "cell_type": "code",
   "execution_count": null,
   "metadata": {},
   "outputs": [],
   "source": [
    "print( (20 + 5 / 4 )"
   ]
  },
  {
   "cell_type": "markdown",
   "metadata": {
    "solution2": "hidden",
    "solution2_first": true
   },
   "source": [
    "### Exercise 1.3.2\n",
    "\n",
    "The following code has an error. Correct the code to make it work.\n",
    "\n",
    "```python\n",
    "print( 10(5 + 3) )\n",
    "```"
   ]
  },
  {
   "cell_type": "markdown",
   "metadata": {
    "solution2": "hidden"
   },
   "source": [
    "> In mathematical notation `10(5 + 3)` means 10 times 8; multiplication is implied by the parentheses. In Python the multiplication must be explicitly included:\n",
    "```python\n",
    "print( 10*(5 + 3) )\n",
    "```"
   ]
  },
  {
   "cell_type": "code",
   "execution_count": null,
   "metadata": {},
   "outputs": [],
   "source": [
    "print( 10(5 + 3) )"
   ]
  },
  {
   "cell_type": "markdown",
   "metadata": {
    "solution2": "hidden",
    "solution2_first": true
   },
   "source": [
    "### Exercise 1.3.3\n",
    "\n",
    "The following code has an error. Correct the code to make it work.\n",
    "\n",
    "```python\n",
    "print( 5.6e -6 )\n",
    "```"
   ]
  },
  {
   "cell_type": "markdown",
   "metadata": {
    "solution2": "hidden"
   },
   "source": [
    "> There should be no spaces before or after \"e\":\n",
    "\n",
    "```python\n",
    "print( 5.6e-6 )\n",
    "```"
   ]
  },
  {
   "cell_type": "code",
   "execution_count": null,
   "metadata": {},
   "outputs": [],
   "source": [
    "print( 5.6e -6 )"
   ]
  },
  {
   "cell_type": "markdown",
   "metadata": {
    "solution2": "hidden",
    "solution2_first": true
   },
   "source": [
    "### Exercise 1.3.4\n",
    "\n",
    "The following code tries to print the number ten thousand and ten but it has an error. Correct the code to make it work.\n",
    "\n",
    "```python\n",
    "print( 10,010 )\n",
    "```"
   ]
  },
  {
   "cell_type": "markdown",
   "metadata": {
    "solution2": "hidden"
   },
   "source": [
    "> Thousands separaters, such as the comma, are not permitted in Python numbers.\n",
    "\n",
    "```python\n",
    "print( 10010 )\n",
    "```"
   ]
  },
  {
   "cell_type": "code",
   "execution_count": null,
   "metadata": {},
   "outputs": [],
   "source": [
    "print( 10,010 )"
   ]
  },
  {
   "cell_type": "markdown",
   "metadata": {
    "solution2": "hidden",
    "solution2_first": true
   },
   "source": [
    "### Exercise 1.3.5\n",
    "\n",
    "In the following code cell use Python to calculate the circumference and area of a circle of radius 5.4 cm and print the answers?\n",
    "\n",
    "*If you've forgotten what the circumference and area of a circle are use google.*\n",
    "\n",
    "<div class=\"alert alert-info\">\n",
    "Your answers, rounded to 1 decimal place, should be\n",
    "    \n",
    "- circumference = 33.9 cm\n",
    "- area = 91.6 cm<sup>2</sup>\n",
    "</div>"
   ]
  },
  {
   "cell_type": "code",
   "execution_count": null,
   "metadata": {
    "solution2": "hidden"
   },
   "outputs": [],
   "source": [
    "# Circumference is 2 * pi * radius\n",
    "print( 2 * 3.142 * 5.4 )\n",
    "\n",
    "# Area is pi * radius**2\n",
    "print( 3.142 * 5.4**2 )"
   ]
  },
  {
   "cell_type": "code",
   "execution_count": null,
   "metadata": {},
   "outputs": [],
   "source": []
  },
  {
   "cell_type": "markdown",
   "metadata": {
    "solution2": "hidden",
    "solution2_first": true
   },
   "source": [
    "### Exercise 1.3.6\n",
    "\n",
    "Use Python to calculate the average of the following set of numbers: \n",
    "```python\n",
    "11, 11, 13.5, 7.5, 13.5, 22.5\n",
    "```\n",
    "\n",
    "<div class=\"alert alert-info\">\n",
    "Your answer should be 13.17\n",
    "</div>"
   ]
  },
  {
   "cell_type": "code",
   "execution_count": null,
   "metadata": {
    "solution2": "hidden"
   },
   "outputs": [],
   "source": [
    "print( (11 + 11 + 13.5 + 7.5 + 13.5 + 22.5)/6 )"
   ]
  },
  {
   "cell_type": "code",
   "execution_count": null,
   "metadata": {},
   "outputs": [],
   "source": []
  },
  {
   "cell_type": "markdown",
   "metadata": {
    "solution2": "hidden",
    "solution2_first": true
   },
   "source": [
    "### Exercise 1.3.7\n",
    "\n",
    "Avogadro's constant, *N<sub>A</sub>*, is the number of particles (e.g, molecules, atoms, ions) in 1 mole of a substance. It's value is approximately 6.022 x 10<sup> 23</sup> mol<sup> -1</sup>.\n",
    "\n",
    "In the code cell below, write Avogadro's constant in e-notation."
   ]
  },
  {
   "cell_type": "code",
   "execution_count": null,
   "metadata": {
    "solution2": "hidden"
   },
   "outputs": [],
   "source": [
    "6.022e23"
   ]
  },
  {
   "cell_type": "code",
   "execution_count": null,
   "metadata": {},
   "outputs": [],
   "source": []
  },
  {
   "cell_type": "markdown",
   "metadata": {
    "solution2": "hidden",
    "solution2_first": true
   },
   "source": [
    "### Exercise 1.3.8\n",
    "\n",
    "The mass of the electron is approximately 9.11 x 10<sup> $-$31</sup> kg\n",
    "\n",
    "In the code cell below, write the electron's mass in e-notation."
   ]
  },
  {
   "cell_type": "code",
   "execution_count": null,
   "metadata": {
    "solution2": "hidden"
   },
   "outputs": [],
   "source": [
    "9.11e-31"
   ]
  },
  {
   "cell_type": "code",
   "execution_count": null,
   "metadata": {},
   "outputs": [],
   "source": []
  },
  {
   "cell_type": "markdown",
   "metadata": {},
   "source": [
    "## Next Notebook"
   ]
  },
  {
   "cell_type": "markdown",
   "metadata": {},
   "source": [
    "[Variables](../1.4%20-%20Variables.ipynb)"
   ]
  }
 ],
 "metadata": {
  "kernelspec": {
   "display_name": "Python 3 (ipykernel)",
   "language": "python",
   "name": "python3"
  },
  "language_info": {
   "codemirror_mode": {
    "name": "ipython",
    "version": 3
   },
   "file_extension": ".py",
   "mimetype": "text/x-python",
   "name": "python",
   "nbconvert_exporter": "python",
   "pygments_lexer": "ipython3",
   "version": "3.11.5"
  },
  "varInspector": {
   "cols": {
    "lenName": 16,
    "lenType": 16,
    "lenVar": 40
   },
   "kernels_config": {
    "python": {
     "delete_cmd_postfix": "",
     "delete_cmd_prefix": "del ",
     "library": "var_list.py",
     "varRefreshCmd": "print(var_dic_list())"
    },
    "r": {
     "delete_cmd_postfix": ") ",
     "delete_cmd_prefix": "rm(",
     "library": "var_list.r",
     "varRefreshCmd": "cat(var_dic_list()) "
    }
   },
   "types_to_exclude": [
    "module",
    "function",
    "builtin_function_or_method",
    "instance",
    "_Feature"
   ],
   "window_display": false
  }
 },
 "nbformat": 4,
 "nbformat_minor": 4
}
