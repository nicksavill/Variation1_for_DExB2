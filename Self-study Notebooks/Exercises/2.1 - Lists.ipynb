{
 "cells": [
  {
   "cell_type": "markdown",
   "metadata": {
    "solution2": "hidden",
    "solution2_first": true
   },
   "source": [
    "### Exercise 2.1.1\n",
    "\n",
    "The following code has an error. Correct the code to make it work.\n",
    "\n",
    "```python\n",
    "diameters = [11, 11, 13.5, 7.5, 13.5, 22.5\n",
    "```"
   ]
  },
  {
   "cell_type": "markdown",
   "metadata": {
    "solution2": "hidden"
   },
   "source": [
    "> The closing square bracket is missing.\n",
    "```python\n",
    "diameters = [11, 11, 13.5, 7.5, 13.5, 22.5]\n",
    "```"
   ]
  },
  {
   "cell_type": "code",
   "execution_count": null,
   "metadata": {},
   "outputs": [],
   "source": [
    "diameters = [11, 11, 13.5, 7.5, 13.5, 22.5"
   ]
  },
  {
   "cell_type": "markdown",
   "metadata": {
    "solution2": "hidden",
    "solution2_first": true
   },
   "source": [
    "### Exercise 2.1.2\n",
    "\n",
    "The following code has an error. Correct the code to make it work. Look closely, this is a tough one.\n",
    "\n",
    "```python\n",
    "diameters = [11 11, 13.5, 7.5, 13.5, 22.5]\n",
    "```"
   ]
  },
  {
   "cell_type": "markdown",
   "metadata": {
    "solution2": "hidden"
   },
   "source": [
    "> A comma has been missed.\n",
    "```python\n",
    "diameters = [11, 11, 13.5, 7.5, 13.5, 22.5]\n",
    "```"
   ]
  },
  {
   "cell_type": "code",
   "execution_count": null,
   "metadata": {},
   "outputs": [],
   "source": [
    "diameters = [11 11, 13.5, 7.5, 13.5, 22.5]"
   ]
  },
  {
   "cell_type": "markdown",
   "metadata": {
    "solution2": "hidden",
    "solution2_first": true
   },
   "source": [
    "### Exercise 2.1.3\n",
    "\n",
    "The following code has an error. Correct the code to make it work.\n",
    "\n",
    "```python\n",
    "diameters = [11, 11, 13.5, 7.5, 13.5, 22.5]\n",
    "print( diameters[10] )\n",
    "```"
   ]
  },
  {
   "cell_type": "markdown",
   "metadata": {
    "solution2": "hidden"
   },
   "source": [
    "> If you use an index that is larger than the number of items in the list you get an `IndexError: list index out of range`.\n",
    "```python\n",
    "print( diameters[5] )\n",
    "```"
   ]
  },
  {
   "cell_type": "code",
   "execution_count": null,
   "metadata": {},
   "outputs": [],
   "source": [
    "diameters = [11, 11, 13.5, 7.5, 13.5, 22.5]\n",
    "print( diameters[10] )"
   ]
  },
  {
   "cell_type": "markdown",
   "metadata": {
    "button": false,
    "new_sheet": false,
    "run_control": {
     "read_only": false
    },
    "solution2": "hidden",
    "solution2_first": true
   },
   "source": [
    "### Exercise 2.1.4\n",
    "\n",
    "1. Create a list with the following items: 1, 1, 2, 3, 5, 8.\n",
    "2. Assign it to the variable called `fib`.\n",
    "3. And print it.\n",
    "\n",
    "<div class=\"alert alert-info\">\n",
    "Your answer should be [1, 1, 2, 3, 5, 8].\n",
    "\n",
    "</div>"
   ]
  },
  {
   "cell_type": "code",
   "execution_count": null,
   "metadata": {
    "solution2": "hidden"
   },
   "outputs": [],
   "source": [
    "fib = [1, 1, 2, 3, 5, 8]\n",
    "\n",
    "print(fib)"
   ]
  },
  {
   "cell_type": "code",
   "execution_count": null,
   "metadata": {},
   "outputs": [],
   "source": []
  },
  {
   "cell_type": "markdown",
   "metadata": {
    "button": false,
    "new_sheet": false,
    "run_control": {
     "read_only": false
    },
    "solution2": "hidden",
    "solution2_first": true
   },
   "source": [
    "### Exercise 2.1.5\n",
    "\n",
    "Print the length of the list `fib`.\n",
    "\n",
    "<div class=\"alert alert-info\">\n",
    "Your answer should be 6.\n",
    "\n",
    "</div>"
   ]
  },
  {
   "cell_type": "code",
   "execution_count": null,
   "metadata": {
    "solution2": "hidden"
   },
   "outputs": [],
   "source": [
    "print( len(fib) )"
   ]
  },
  {
   "cell_type": "code",
   "execution_count": null,
   "metadata": {},
   "outputs": [],
   "source": []
  },
  {
   "cell_type": "markdown",
   "metadata": {
    "button": false,
    "new_sheet": false,
    "run_control": {
     "read_only": false
    },
    "solution2": "hidden",
    "solution2_first": true
   },
   "source": [
    "### Exercise 2.1.6\n",
    "\n",
    "Using list indexing, print the 10<sup>th</sup> item in the list `eggs_laid`.\n",
    "\n",
    "*Remember, the first value in a list has index 0*\n",
    "\n",
    "<div class=\"alert alert-info\">\n",
    "Your answer should be 11.\n",
    "\n",
    "</div>"
   ]
  },
  {
   "cell_type": "code",
   "execution_count": null,
   "metadata": {
    "solution2": "hidden"
   },
   "outputs": [],
   "source": [
    "eggs_laid = [10,11,14,16,13,14,12,10,16,11,12,13,16,11,10,14,16,16,15,12,11,13,14,15,12,14,12,15,13,13,11]\n",
    "\n",
    "print( eggs_laid[9] )"
   ]
  },
  {
   "cell_type": "code",
   "execution_count": null,
   "metadata": {},
   "outputs": [],
   "source": [
    "eggs_laid = [10,11,14,16,13,14,12,10,16,11,12,13,16,11,10,14,16,16,15,12,11,13,14,15,12,14,12,15,13,13,11]\n"
   ]
  },
  {
   "cell_type": "markdown",
   "metadata": {},
   "source": [
    "## Next Notebook"
   ]
  },
  {
   "cell_type": "markdown",
   "metadata": {},
   "source": [
    "[Loops](../2.2%20-%20Loops.ipynb)\n"
   ]
  }
 ],
 "metadata": {
  "kernelspec": {
   "display_name": "Python 3 (ipykernel)",
   "language": "python",
   "name": "python3"
  },
  "language_info": {
   "codemirror_mode": {
    "name": "ipython",
    "version": 3
   },
   "file_extension": ".py",
   "mimetype": "text/x-python",
   "name": "python",
   "nbconvert_exporter": "python",
   "pygments_lexer": "ipython3",
   "version": "3.11.5"
  },
  "varInspector": {
   "cols": {
    "lenName": 16,
    "lenType": 16,
    "lenVar": 40
   },
   "kernels_config": {
    "python": {
     "delete_cmd_postfix": "",
     "delete_cmd_prefix": "del ",
     "library": "var_list.py",
     "varRefreshCmd": "print(var_dic_list())"
    },
    "r": {
     "delete_cmd_postfix": ") ",
     "delete_cmd_prefix": "rm(",
     "library": "var_list.r",
     "varRefreshCmd": "cat(var_dic_list()) "
    }
   },
   "types_to_exclude": [
    "module",
    "function",
    "builtin_function_or_method",
    "instance",
    "_Feature"
   ],
   "window_display": false
  }
 },
 "nbformat": 4,
 "nbformat_minor": 4
}
