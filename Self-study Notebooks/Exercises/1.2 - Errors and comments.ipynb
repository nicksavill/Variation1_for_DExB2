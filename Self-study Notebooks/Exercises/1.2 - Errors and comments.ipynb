{
 "cells": [
  {
   "cell_type": "markdown",
   "id": "7e52e395",
   "metadata": {},
   "source": [
    "Each Self-study notebook comes with a set of exercises for you to practice the material you have just learnt.\n",
    "\n",
    "<div class=\"alert alert-info\">\n",
    "\n",
    "The code in the following exercises have various errors. Correct the code to make them work.\n",
    "\n",
    "</div>\n",
    "\n",
    "<div class=\"alert alert-success\">\n",
    "\n",
    "If you want to restart an exercise, delete the code in the code cell then copy and paste the code in the markdown cell into the, now empty, code cell.\n",
    "\n",
    "</div>\n",
    "\n",
    "The answers can be revealed by clicking the green \"Show Solution\" button. But please only reveal the solution once you have thought about the problem and tried to answer it. Like riding a bike, the **only** way to learn how to code is by doing - which therefore means making mistakes and learning from them. Reading the solutions before thinking about the answers will not help you learn to code. Nor will it help you in the Workshops, the weekly quizzes or in the end-of-term exam.  By actively trying to answer the questions you will gain a far deeper understanding of the material and you'll be more confident in applying the knowledge you have gained."
   ]
  },
  {
   "cell_type": "markdown",
   "id": "df72acd9",
   "metadata": {
    "solution2": "hidden",
    "solution2_first": true
   },
   "source": [
    "### Exercise 1.2.1\n",
    "\n",
    "The following code has an error. Correct the code to make it work.\n",
    "\n",
    "```python\n",
    "PRINT( 'Hello, World!' )\n",
    "```"
   ]
  },
  {
   "cell_type": "markdown",
   "id": "5b5bc2f9",
   "metadata": {
    "solution2": "hidden"
   },
   "source": [
    "> `PRINT` should be in lowercase \n",
    "\n",
    "```python\n",
    "print( 'Hello, World!' )\n",
    "```"
   ]
  },
  {
   "cell_type": "code",
   "execution_count": null,
   "id": "fe366b04",
   "metadata": {},
   "outputs": [],
   "source": [
    "PRINT( 'Hello, World!' )"
   ]
  },
  {
   "cell_type": "markdown",
   "id": "232b4ed7",
   "metadata": {
    "solution2": "hidden",
    "solution2_first": true
   },
   "source": [
    "### Exercise 1.2.2\n",
    "\n",
    "The following code has an error. Correct the code to make it work.\n",
    "\n",
    "```python\n",
    "print( \"Hello, World!' )\n",
    "```"
   ]
  },
  {
   "cell_type": "markdown",
   "id": "270456b0",
   "metadata": {
    "solution2": "hidden"
   },
   "source": [
    "> The quotes around Hello, World! should match. Either two double quotes or two single quotes, but not a mixture.\n",
    "\n",
    "\n",
    "```python\n",
    "print( 'Hello, World!' )\n",
    "```"
   ]
  },
  {
   "cell_type": "code",
   "execution_count": null,
   "id": "47614ee0",
   "metadata": {},
   "outputs": [],
   "source": [
    "print( \"Hello, World!' )"
   ]
  },
  {
   "cell_type": "markdown",
   "id": "92700304",
   "metadata": {
    "solution2": "hidden",
    "solution2_first": true
   },
   "source": [
    "### Exercise 1.2.3\n",
    "\n",
    "The following code has an error. Correct the code to make it work.\n",
    "\n",
    "```python\n",
    "print \"Hello, World!\"\n",
    "```"
   ]
  },
  {
   "cell_type": "markdown",
   "id": "3a929a2c",
   "metadata": {
    "solution2": "hidden"
   },
   "source": [
    "> Parentheses are missing\n",
    "\n",
    "```python\n",
    "print(\"Hello, World!\")\n",
    "```"
   ]
  },
  {
   "cell_type": "code",
   "execution_count": null,
   "id": "00da345c",
   "metadata": {},
   "outputs": [],
   "source": [
    "print \"Hello, World!\""
   ]
  },
  {
   "cell_type": "markdown",
   "id": "8dc005d4",
   "metadata": {
    "solution2": "hidden",
    "solution2_first": true
   },
   "source": [
    "### Exercise 1.2.4\n",
    "\n",
    "The following code has an error. Correct the code to make it work.\n",
    "\n",
    "```python\n",
    "Here I output Hello, World!\n",
    "print( \"Hello, World!\" )\n",
    "```"
   ]
  },
  {
   "cell_type": "markdown",
   "id": "f49fb6a5",
   "metadata": {
    "solution2": "hidden"
   },
   "source": [
    "> The hash symbol, #, is missing at the start of the comment about outputting Hello, World!.\n",
    "\n",
    "```python\n",
    "# Here I output Hello, World!\n",
    "print( \"Hello, World!\" )\n",
    "```"
   ]
  },
  {
   "cell_type": "code",
   "execution_count": null,
   "id": "b9b2c21b",
   "metadata": {},
   "outputs": [],
   "source": [
    "Here I output Hello, World!\n",
    "\n",
    "print( \"Hello, World!\" )"
   ]
  },
  {
   "cell_type": "markdown",
   "id": "1bf9f1bb",
   "metadata": {
    "solution2": "hidden",
    "solution2_first": true
   },
   "source": [
    "### Exercise 1.2.5\n",
    "\n",
    "The following code has an error. Correct the code to make it work.\n",
    "\n",
    "```python\n",
    "print( \"Hello, World!\" ) # Here \n",
    "I output Hello, World!\n",
    "```"
   ]
  },
  {
   "cell_type": "markdown",
   "id": "c549897c",
   "metadata": {
    "solution2": "hidden"
   },
   "source": [
    "> The comment runs onto a new line without a hash symbol in front of it\n",
    "```python\n",
    "print( \"Hello, World!\" ) # Here I output Hello, World!\n",
    "```"
   ]
  },
  {
   "cell_type": "code",
   "execution_count": null,
   "id": "f19c5e4a",
   "metadata": {},
   "outputs": [],
   "source": [
    "print( \"Hello, World!\" ) # Here \n",
    "I output Hello, World!"
   ]
  },
  {
   "cell_type": "markdown",
   "id": "ce594083",
   "metadata": {},
   "source": [
    "## Next Notebook"
   ]
  },
  {
   "cell_type": "markdown",
   "id": "49ef09a1",
   "metadata": {},
   "source": [
    "Now read the next notebook by clicking the link below.\n",
    "\n",
    "[Numbers and arithmetic](../1.3%20-%20Numbers%20and%20arithmetic.ipynb)"
   ]
  }
 ],
 "metadata": {
  "kernelspec": {
   "display_name": "Python 3 (ipykernel)",
   "language": "python",
   "name": "python3"
  },
  "language_info": {
   "codemirror_mode": {
    "name": "ipython",
    "version": 3
   },
   "file_extension": ".py",
   "mimetype": "text/x-python",
   "name": "python",
   "nbconvert_exporter": "python",
   "pygments_lexer": "ipython3",
   "version": "3.11.5"
  },
  "varInspector": {
   "cols": {
    "lenName": 16,
    "lenType": 16,
    "lenVar": 40
   },
   "kernels_config": {
    "python": {
     "delete_cmd_postfix": "",
     "delete_cmd_prefix": "del ",
     "library": "var_list.py",
     "varRefreshCmd": "print(var_dic_list())"
    },
    "r": {
     "delete_cmd_postfix": ") ",
     "delete_cmd_prefix": "rm(",
     "library": "var_list.r",
     "varRefreshCmd": "cat(var_dic_list()) "
    }
   },
   "types_to_exclude": [
    "module",
    "function",
    "builtin_function_or_method",
    "instance",
    "_Feature"
   ],
   "window_display": false
  }
 },
 "nbformat": 4,
 "nbformat_minor": 5
}
