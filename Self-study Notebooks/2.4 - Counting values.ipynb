{
 "cells": [
  {
   "cell_type": "markdown",
   "metadata": {},
   "source": [
    "# Counting values: Frequency and relative frequency"
   ]
  },
  {
   "cell_type": "markdown",
   "metadata": {},
   "source": [
    "<div class=\"alert alert-warning\">\n",
    "\n",
    "**In this notebook you will learn how to combine loops and conditions to find the frequency and relative frequency of values in a list.**\n",
    "    \n",
    "</div>"
   ]
  },
  {
   "cell_type": "markdown",
   "metadata": {},
   "source": [
    "We've now covered enough of the basics of Python coding to start thinking about statistically analysing data from experimental and observational studies. \n",
    "\n",
    "This week we'll start simply with counting values in a set of data."
   ]
  },
  {
   "cell_type": "markdown",
   "metadata": {},
   "source": [
    "## Frequency\n"
   ]
  },
  {
   "cell_type": "markdown",
   "metadata": {},
   "source": [
    "The following Python list contains the heights of 125 female University students in centimetres.  We know it's a list because it is surrounded by square brackets.\n",
    "\n",
    "```python\n",
    "[149.7, 169.9, 152.1, 152.3, 152.5, 152.6, 152.9, 154.7, 154.8, 154.9, 155.0, 155.1, 155.1, 155.2, 157.2, 157.3, 157.4, 157.5, 157.6, 157.6, 157.6, 157.7, 157.7, 157.8, 159.7, 159.7, 159.9, 159.9, 159.9, 159.9, 160.0, 160.0, 160.0, 160.1, 160.1, 160.2, 160.2, 160.3, 160.4, 160.5, 162.3, 162.4, 162.4, 162.4, 162.4, 162.5, 162.5, 162.5, 162.6, 162.6, 162.6, 162.6, 162.6, 162.6, 162.7, 162.7, 162.8, 162.8, 162.9, 162.9, 162.9, 163.0, 163.0, 164.8, 164.9, 165.0, 165.0, 165.1, 165.1, 165.1, 165.1, 165.1, 165.2, 165.2, 165.2, 165.3, 165.3, 165.3, 165.3, 165.3, 165.3, 165.4, 165.5, 167.1, 167.3, 167.4, 167.5, 167.5, 167.6, 167.6, 167.6, 167.6, 167.6, 167.7, 167.7, 167.7, 167.7, 167.8, 167.8, 169.9, 169.9, 169.9, 169.9, 170.0, 170.1, 170.2, 170.2, 170.3, 172.5, 172.5, 172.8, 172.8, 172.9, 173.1, 175.0, 175.3, 175.3, 175.4, 175.5, 175.6, 177.7, 177.7, 177.8, 180.3, 182.7]\n",
    "```\n",
    "\n",
    "How many students are shorter than 160 cm?\n",
    "\n",
    "You could, of course, look through this list manually and count the number of students with heights less than 160 cm. That's pretty tedious; we should get the computer to do it for us. \n",
    "\n",
    "And if the list contained thousands of values it just isn't possible to do it manually. This is where computing excels: performing the same repetitive task many times very quickly. \n",
    "\n",
    "---\n",
    "\n",
    "Before writing some code to answer this question, let's think how you would actually do it manually. \n",
    "\n",
    "1. Set up a tally of the number of times a height less than 160 cm occurs and set it to zero.\n",
    "2. Read the first height in the list. \n",
    "3. If it is less than 160 cm then increase the tally by 1, if it is 160 cm or greater do nothing.\n",
    "4. Move onto the next height in the list and repeat Step 3 until you reach the end of the list.\n",
    "\n",
    "The important concept here is the loop between Step 3 and Step 4. You repeat a task (counting the number of times height is less than 160 cm) until you reach the end of the list.\n",
    "\n",
    "<div class=\"alert alert-info\">\n",
    "\n",
    "1. Have a look at the code below and see if you can understand what it does\n",
    "2. Run the code to see if your prediction is correct.\n",
    "</div>"
   ]
  },
  {
   "cell_type": "code",
   "execution_count": null,
   "metadata": {},
   "outputs": [],
   "source": [
    "# Heights in centimetres of 125 female students\n",
    "heights = [149.7, 169.9, 152.1, 152.3, 152.5, 152.6, 152.9, 154.7, 154.8, 154.9, 155.0, 155.1, 155.1, 155.2, 157.2, 157.3, 157.4, 157.5, 157.6, 157.6, 157.6, 157.7, 157.7, 157.8, 159.7, 159.7, 159.9, 159.9, 159.9, 159.9, 160.0, 160.0, 160.0, 160.1, 160.1, 160.2, 160.2, 160.3, 160.4, 160.5, 162.3, 162.4, 162.4, 162.4, 162.4, 162.5, 162.5, 162.5, 162.6, 162.6, 162.6, 162.6, 162.6, 162.6, 162.7, 162.7, 162.8, 162.8, 162.9, 162.9, 162.9, 163.0, 163.0, 164.8, 164.9, 165.0, 165.0, 165.1, 165.1, 165.1, 165.1, 165.1, 165.2, 165.2, 165.2, 165.3, 165.3, 165.3, 165.3, 165.3, 165.3, 165.4, 165.5, 167.1, 167.3, 167.4, 167.5, 167.5, 167.6, 167.6, 167.6, 167.6, 167.6, 167.7, 167.7, 167.7, 167.7, 167.8, 167.8, 169.9, 169.9, 169.9, 169.9, 170.0, 170.1, 170.2, 170.2, 170.3, 172.5, 172.5, 172.8, 172.8, 172.9, 173.1, 175.0, 175.3, 175.3, 175.4, 175.5, 175.6, 177.7, 177.7, 177.8, 180.3, 182.7]\n",
    "\n",
    "# Set a tally to count the frequency of heights below 160cm. Initialise it to zero.\n",
    "\n",
    "count = 0\n",
    "\n",
    "# Loop through the list heights. The iterating variable is called h.\n",
    "\n",
    "for h in heights:\n",
    "    \n",
    "    # If height is less than 160.0 cm increment the tally by 1 otherwise do nothing.\n",
    "    \n",
    "    if h < 160.0:\n",
    "        count += 1\n",
    "\n",
    "# Finished looping. So print out the tally.\n",
    "\n",
    "print(f'Frequency of heights less than 160 cm is {count}')"
   ]
  },
  {
   "cell_type": "markdown",
   "metadata": {},
   "source": [
    "We start by initialising a tally variable called `count` to zero.\n",
    "\n",
    "The for-loop is entered. Everything indented below `for h in heights:` is in the loop. \n",
    "\n",
    "The iterating variable `h` is assigned the first item in `heights` which is 149.7.\n",
    "\n",
    "We next test the value of `h` to see if it is less than 160.0 with:\n",
    "```python\n",
    "    if h < 160.0:\n",
    "    \n",
    "```\n",
    "As it is, `count` in incremented by 1. Notice that `count += 1` is double indented. This is because it is part of the condition `if h < 160.0:`, which, in turn, is part of the for-loop `for h in heights:`.\n",
    "\n",
    "\n",
    "The loop moves onto the second item in `heights` which is 169.9. `h` is assigned the value 169.9 which is then tested. Because the value of `h` is greater than 160.0 nothing happens as there is no `else:` statement and `count` remains unchanged. \n",
    "\n",
    "Once the last item in `heights` is tested the loop finishes and we drop out of the bottom of the loop. This is the first non-indented line after the loop. In this case it is the `print()` statement which outputs the value of `count`.\n",
    "\n",
    "<div class=\"alert alert-info\">\n",
    "\n",
    "In the above code, try changing the test height to say 170.0 cm or 180.0 cm to see what happens.\n",
    "    \n",
    "    \n",
    "</div>\n",
    "\n",
    "The number of times a value occurs is called its **frequency**. So the frequency of heights less than 160.0 cm is 29. That is 29 of the 125 measured female students are less than 160.0 cm.\n"
   ]
  },
  {
   "cell_type": "markdown",
   "metadata": {},
   "source": [
    "## Relative frequency (proportion)\n"
   ]
  },
  {
   "cell_type": "markdown",
   "metadata": {},
   "source": [
    "Sometimes we want to know the frequency (number of occurrences) of a particular value in a set of data.\n",
    "\n",
    "Other times we want to know the relative frequency (proportion) of a particular value. Relative frequency can also be written as a percentage. \n",
    "\n",
    "\n",
    "The relative frequency of a value is just its frequency divided by the total number of values.\n",
    "\n",
    "So the relative frequency of heights shorter than 160 cm in the list `heights` is its frequency (which is 29) divided by the length of `heights` (which is 125). The latter can be found in Python with the `len()` function as we've seen previously.\n",
    "\n",
    "\n",
    "<div class=\"alert alert-info\">\n",
    "\n",
    "1. Make sure you run the code above to count the frequency of heights shorter than 160 cm.\n",
    "2. Have a look at the code below and see if you can understand what it does.\n",
    "3. Run the code to see if your prediction is correct.\n",
    "</div>"
   ]
  },
  {
   "cell_type": "code",
   "execution_count": null,
   "metadata": {},
   "outputs": [],
   "source": [
    "# The number of values in the list heights.\n",
    "\n",
    "n = len(heights)\n",
    "\n",
    "# Calculate the relative frequency of heights shorter than 160 cm\n",
    "\n",
    "rel_freq = count / n\n",
    "\n",
    "print(f'Relative frequency of heights less than 160 cm is {rel_freq:.2f} or {rel_freq:.0%}')"
   ]
  },
  {
   "cell_type": "markdown",
   "metadata": {},
   "source": [
    "We've printed the relative frequency to 2 decimal places using the formatting option `:.2f`. We have also printed it as a percentage to zero dp using the formatting option `:.0%`. \n",
    "\n",
    "Remember that the percent symbol \"%\" means \"divide by 100\". So \"23%\" can be read as \"23 divided by 100\" which equals 0.23. That is, 23% is exactly the same thing as 0.23, just written in a different way. \n"
   ]
  },
  {
   "cell_type": "markdown",
   "metadata": {},
   "source": [
    "## Counting values within a range\n"
   ]
  },
  {
   "cell_type": "markdown",
   "metadata": {},
   "source": [
    "In the code below we find the frequency of heights within the range 165 cm to 175 cm.\n",
    "\n",
    "<div class=\"alert alert-info\">\n",
    "\n",
    "1. Have a look at the code below and see if you can understand what it does\n",
    "2. Run the code to see if your prediction is correct.\n",
    "</div>"
   ]
  },
  {
   "cell_type": "code",
   "execution_count": null,
   "metadata": {},
   "outputs": [],
   "source": [
    "# The number of values in heights (used to calculate relative frequency).\n",
    "\n",
    "n = len(heights)\n",
    "\n",
    "# Set tally to zero.\n",
    "\n",
    "count = 0\n",
    "\n",
    "# Loop through heights.\n",
    "\n",
    "for h in heights:\n",
    "    \n",
    "    # If height is between 165 and 175 increment tally by 1. \n",
    "\n",
    "    if 165.0 < h < 175.0:    \n",
    "        count += 1\n",
    "\n",
    "print(f'Frequency of heights between 165 cm and 175 cm is {count}')\n",
    "print(f'Relative frequency of heights between 165 cm and 175 cm is {count/n:.2f} or {count/n:.0%}')"
   ]
  },
  {
   "cell_type": "markdown",
   "metadata": {},
   "source": [
    "Next week we'll see why counting values is very important when doing statistics."
   ]
  },
  {
   "cell_type": "markdown",
   "metadata": {},
   "source": [
    "## Exercise Notebook"
   ]
  },
  {
   "cell_type": "markdown",
   "metadata": {},
   "source": [
    "[Counting values](Exercises/2.4%20-%20Counting%20values.ipynb)\n"
   ]
  }
 ],
 "metadata": {
  "interpreter": {
   "hash": "5b34568b434bb6e5bf895c3fbf2a1e101e1e281d0c9e435769d397db7902ae33"
  },
  "kernelspec": {
   "display_name": "Python 3 (ipykernel)",
   "language": "python",
   "name": "python3"
  },
  "language_info": {
   "codemirror_mode": {
    "name": "ipython",
    "version": 3
   },
   "file_extension": ".py",
   "mimetype": "text/x-python",
   "name": "python",
   "nbconvert_exporter": "python",
   "pygments_lexer": "ipython3",
   "version": "3.11.5"
  },
  "varInspector": {
   "cols": {
    "lenName": 16,
    "lenType": 16,
    "lenVar": 40
   },
   "kernels_config": {
    "python": {
     "delete_cmd_postfix": "",
     "delete_cmd_prefix": "del ",
     "library": "var_list.py",
     "varRefreshCmd": "print(var_dic_list())"
    },
    "r": {
     "delete_cmd_postfix": ") ",
     "delete_cmd_prefix": "rm(",
     "library": "var_list.r",
     "varRefreshCmd": "cat(var_dic_list()) "
    }
   },
   "types_to_exclude": [
    "module",
    "function",
    "builtin_function_or_method",
    "instance",
    "_Feature"
   ],
   "window_display": false
  }
 },
 "nbformat": 4,
 "nbformat_minor": 4
}
