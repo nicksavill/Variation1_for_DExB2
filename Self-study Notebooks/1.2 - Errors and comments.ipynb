{
 "cells": [
  {
   "cell_type": "markdown",
   "metadata": {},
   "source": [
    "# Errors and comments\n"
   ]
  },
  {
   "cell_type": "markdown",
   "metadata": {},
   "source": [
    "<div class=\"alert alert-warning\">\n",
    "\n",
    "**In this notebook you will** \n",
    "- see how Python reports errors in your code\n",
    "- add comments to your code\n",
    "    \n",
    "</div>"
   ]
  },
  {
   "cell_type": "markdown",
   "metadata": {},
   "source": [
    "## Making mistakes and Python errors"
   ]
  },
  {
   "cell_type": "markdown",
   "metadata": {},
   "source": [
    "All coders, even experienced ones, make mistakes all of the time. Coding is often a process of trial and error until the code works; and even then there may be missed errors (called bugs) that only surface much later. So do not become disheartened when your code does not work even after many tries.\n",
    "\n",
    "Here are a couple of examples of typical coding errors for you to replicate.\n",
    "\n",
    "All Python commands, such as `print`, are in lowercase. If you type in a command with any uppercase characters and run it you will cause Python to **raise an error**. \n",
    "\n",
    "<div class=\"alert alert-info\">\n",
    "\n",
    "The following code cell has `Print` with a capital \"P\".\n",
    "    \n",
    "Select the code cell then run it with **ctrl-enter**. \n",
    "\n",
    "</div>"
   ]
  },
  {
   "cell_type": "code",
   "execution_count": null,
   "metadata": {},
   "outputs": [],
   "source": [
    "Print( \"Hello, World!\" )"
   ]
  },
  {
   "cell_type": "markdown",
   "metadata": {},
   "source": [
    "You will get an error message that looks rather confusing. The last line of the error message is \n",
    "\n",
    "    NameError: name 'Print' is not defined\n",
    "\n",
    "\n",
    "This is telling you that Python does not know what `Print` is and so cannot run the code.\n",
    "\n",
    "You also get the line with an arrow:\n",
    "\n",
    "    ----> 1 Print( \"Hello, World!\" )\n",
    "\n",
    "This is telling you which line of code is causing the error. Very handy when your code contains many lines.\n",
    "\n",
    "Here's another common error.\n",
    "\n",
    "<div class=\"alert alert-info\">\n",
    "    \n",
    "In the following code cell the closing parenthesis has been missed off.\n",
    "    \n",
    "Select the code cell then run it with **ctrl-enter**. \n",
    "    \n",
    "</div>"
   ]
  },
  {
   "cell_type": "code",
   "execution_count": null,
   "metadata": {},
   "outputs": [],
   "source": [
    "print( \"Hello, World!\""
   ]
  },
  {
   "cell_type": "markdown",
   "metadata": {},
   "source": [
    "This time you should get `SyntaxError: unexpected EOF while parsing`. A syntax error means that Python does not understand how to run your code because you have missed or mis-typed a special character (like a speech mark or a parenthesis).\n",
    "\n",
    "One of the hardest aspects of learning a programming language is to know which aspects of the language are inflexible, such as lowercase commands, and which aspects are not important. For example, you can add spaces before and after parentheses, and Python ignores these. You can also use single quotes as well as double quotes. So\n",
    "\n",
    "```python\n",
    "print(\"Hello, World!\")\n",
    "print (\"Hello, World!\")\n",
    "print( \"Hello, World!\" )\n",
    "print('Hello, World!')\n",
    "```\n",
    "\n",
    "all work and give the same output. Unfortunately, the only way to really learn these rules is by trial and error. Which can make learning any new language (including spoken language) frustrating. But keep practising and it will start to make sense. "
   ]
  },
  {
   "cell_type": "markdown",
   "metadata": {
    "button": false,
    "new_sheet": false
   },
   "source": [
    "## Comments"
   ]
  },
  {
   "cell_type": "markdown",
   "metadata": {
    "button": false,
    "new_sheet": false
   },
   "source": [
    "Python allows you to add comments within the code to describe what a part of it does or how it works to anyone trying to read and understand the code. Such comments are also often extremely useful as a reminder to yourself for what a piece of code does.\n",
    "\n",
    "Python comments always start with a `#` symbol and extend to the end of the line. They can stand on their own line or can appear after a line of code. Python ignores all text after the `#` to the end of the line, so the comments have no effect on how the code runs.\n",
    "\n",
    "<div class=\"alert alert-info\">\n",
    "\n",
    "Notice the two ways of using comments in the code below. If you run the code the comments will be ignored.\n",
    "\n",
    "</div>"
   ]
  },
  {
   "cell_type": "code",
   "execution_count": null,
   "metadata": {
    "button": false,
    "new_sheet": false
   },
   "outputs": [],
   "source": [
    "# This is a comment\n",
    "\n",
    "print(\"Hello, World\") # This is another a comment"
   ]
  },
  {
   "cell_type": "markdown",
   "metadata": {},
   "source": [
    "There's a quick way to comment or un-comment a line. Place your cursor on the line you wish to (un)-comment and press **Ctrl-/**. \n",
    "\n",
    "You can (un)-comment several lines at the same time by selecting the lines of code either with your mouse with **click-drag** or using **Shift-down arrow** or **Shift-up arrow** and then pressing **Ctrl-/**.\n",
    "\n",
    "\n",
    "<div class=\"alert alert-info\">\n",
    "\n",
    "Try commenting out then un-commenting the code below with **Ctrl-/**. First try it out on a single line. Then try multiple lines using **click-drag** or using **Shift-down arrow** or **Shift-up arrow**.\n",
    "\n",
    "</div>"
   ]
  },
  {
   "cell_type": "code",
   "execution_count": null,
   "metadata": {},
   "outputs": [],
   "source": [
    "print('Hello')\n",
    "print('World!')"
   ]
  },
  {
   "cell_type": "markdown",
   "metadata": {},
   "source": [
    "## Exercise Notebook"
   ]
  },
  {
   "cell_type": "markdown",
   "metadata": {},
   "source": [
    "Now complete the following exercises by clicking the link below.\n",
    "\n",
    "[Errors and comments](Exercises/1.2%20-%20Errors%20and%20comments.ipynb)"
   ]
  }
 ],
 "metadata": {
  "anaconda-cloud": {},
  "hide_input": false,
  "kernelspec": {
   "display_name": "Python 3 (ipykernel)",
   "language": "python",
   "name": "python3"
  },
  "language_info": {
   "codemirror_mode": {
    "name": "ipython",
    "version": 3
   },
   "file_extension": ".py",
   "mimetype": "text/x-python",
   "name": "python",
   "nbconvert_exporter": "python",
   "pygments_lexer": "ipython3",
   "version": "3.11.5"
  },
  "varInspector": {
   "cols": {
    "lenName": 16,
    "lenType": 16,
    "lenVar": 40
   },
   "kernels_config": {
    "python": {
     "delete_cmd_postfix": "",
     "delete_cmd_prefix": "del ",
     "library": "var_list.py",
     "varRefreshCmd": "print(var_dic_list())"
    },
    "r": {
     "delete_cmd_postfix": ") ",
     "delete_cmd_prefix": "rm(",
     "library": "var_list.r",
     "varRefreshCmd": "cat(var_dic_list()) "
    }
   },
   "types_to_exclude": [
    "module",
    "function",
    "builtin_function_or_method",
    "instance",
    "_Feature"
   ],
   "window_display": false
  }
 },
 "nbformat": 4,
 "nbformat_minor": 4
}
